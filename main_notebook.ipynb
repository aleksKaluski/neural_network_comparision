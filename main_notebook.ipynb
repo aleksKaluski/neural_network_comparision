{
 "cells": [
  {
   "cell_type": "code",
   "id": "initial_id",
   "metadata": {
    "collapsed": true,
    "ExecuteTime": {
     "end_time": "2025-06-15T18:42:52.504996Z",
     "start_time": "2025-06-15T18:42:47.949834Z"
    }
   },
   "source": [
    "import source.prepare_data as prd\n",
    "import source.dataset as dat\n",
    "import source.multi_layer_perceptron as mlp\n",
    "import source.table as tb\n",
    "import source.comparision as comp\n",
    "import source.recurent_neural_networks as rnn"
   ],
   "outputs": [
    {
     "name": "stdout",
     "output_type": "stream",
     "text": [
      "WARNING:tensorflow:From C:\\Python_files\\DL_final2\\.venv\\lib\\site-packages\\keras\\src\\losses.py:2976: The name tf.losses.sparse_softmax_cross_entropy is deprecated. Please use tf.compat.v1.losses.sparse_softmax_cross_entropy instead.\n",
      "\n"
     ]
    },
    {
     "name": "stderr",
     "output_type": "stream",
     "text": [
      "C:\\Python_files\\DL_final2\\.venv\\lib\\site-packages\\tqdm\\auto.py:21: TqdmWarning: IProgress not found. Please update jupyter and ipywidgets. See https://ipywidgets.readthedocs.io/en/stable/user_install.html\n",
      "  from .autonotebook import tqdm as notebook_tqdm\n"
     ]
    }
   ],
   "execution_count": 1
  },
  {
   "metadata": {
    "ExecuteTime": {
     "end_time": "2025-06-15T18:42:53.180103Z",
     "start_time": "2025-06-15T18:42:52.673999Z"
    }
   },
   "cell_type": "code",
   "source": [
    "import pandas as pd\n",
    "import spacy\n",
    "from importlib import reload"
   ],
   "id": "c3448a4109826719",
   "outputs": [],
   "execution_count": 2
  },
  {
   "metadata": {
    "ExecuteTime": {
     "end_time": "2025-06-15T18:50:38.532793Z",
     "start_time": "2025-06-15T18:50:38.522669Z"
    }
   },
   "cell_type": "code",
   "source": [
    "reload(prd)\n",
    "reload(dat)\n",
    "reload(mlp)\n",
    "reload(tb)\n",
    "reload(comp)"
   ],
   "id": "fb581bdb7bcd0a39",
   "outputs": [
    {
     "data": {
      "text/plain": [
       "<module 'source.comparision' from 'C:\\\\Python_files\\\\DL_final2\\\\source\\\\comparision.py'>"
      ]
     },
     "execution_count": 14,
     "metadata": {},
     "output_type": "execute_result"
    }
   ],
   "execution_count": 14
  },
  {
   "metadata": {
    "ExecuteTime": {
     "end_time": "2025-06-15T18:43:02.681958Z",
     "start_time": "2025-06-15T18:42:55.474422Z"
    }
   },
   "cell_type": "code",
   "source": [
    "\"\"\"\n",
    "1) Preprocessing\n",
    "\"\"\"\n",
    "# load models and dataset\n",
    "df = pd.read_csv(\"hf://datasets/gxb912/large-twitter-tweets-sentiment/train.csv\", nrows=1000)\n",
    "nlp = spacy.load(\"en_core_web_sm\")\n",
    "\n",
    "# prepare dataset\n",
    "df = prd.prepare_df(df, nlp)"
   ],
   "id": "285e8d53f70a580d",
   "outputs": [],
   "execution_count": 3
  },
  {
   "metadata": {
    "ExecuteTime": {
     "end_time": "2025-06-15T18:46:28.115340Z",
     "start_time": "2025-06-15T18:46:28.089362Z"
    }
   },
   "cell_type": "code",
   "source": [
    "# create dataset out of cleaned columns\n",
    "dataset = dat.Text_Dataset(df, col_text=\"clean_text_str\", col_label=\"sentiment\", args={\"max_features\":5000})\n",
    "dataset.split_dataset()"
   ],
   "id": "dbafb51d9dda0b02",
   "outputs": [],
   "execution_count": 7
  },
  {
   "metadata": {
    "ExecuteTime": {
     "end_time": "2025-06-15T18:50:49.494244Z",
     "start_time": "2025-06-15T18:50:41.955779Z"
    }
   },
   "cell_type": "code",
   "source": [
    "\"\"\"\n",
    "2) Accuracy analysis for MLP model. We will compare the workflow of MLP by using TD-IDF encoding and BOW encoding\n",
    "\n",
    "2.1) TD-IDF encoding\n",
    "\"\"\"\n",
    "X_train_TF, X_test_TF, Y_train_TF, Y_test_TF = dataset.get_encodings(tdidf=True)\n",
    "\n",
    "mlp_tdidf_params = mlp.find_best_mlp(X_train=X_train_TF,\n",
    "                                      Y_train=Y_train_TF,\n",
    "                                      X_test=X_test_TF,\n",
    "                                      Y_test=Y_test_TF,\n",
    "                                      n_trials = 3,\n",
    "                                     encoding=\"TDIFD\")"
   ],
   "id": "3736f65aa5b93dea",
   "outputs": [
    {
     "name": "stderr",
     "output_type": "stream",
     "text": [
      "[I 2025-06-15 20:50:41,968] A new study created in memory with name: mlp_optimization\n",
      "[I 2025-06-15 20:50:44,365] Trial 0 finished with values: [0.5604890584945679, 0.7699999809265137] and parameters: {'epochs': 172, 'learning_rate': 0.19215569438181865, 'units': 2}.\n",
      "[I 2025-06-15 20:50:47,019] Trial 1 finished with values: [0.5489175915718079, 0.7350000143051147] and parameters: {'epochs': 195, 'learning_rate': 0.12237232274459567, 'units': 5}.\n",
      "[I 2025-06-15 20:50:49,486] Trial 2 finished with values: [0.7252979874610901, 0.7350000143051147] and parameters: {'epochs': 171, 'learning_rate': 0.43412688838275926, 'units': 10}.\n"
     ]
    }
   ],
   "execution_count": 15
  },
  {
   "metadata": {
    "ExecuteTime": {
     "end_time": "2025-06-15T18:50:52.374060Z",
     "start_time": "2025-06-15T18:50:52.360998Z"
    }
   },
   "cell_type": "code",
   "source": "mlp_tdidf_params",
   "id": "99fc5d94d47926c1",
   "outputs": [
    {
     "data": {
      "text/plain": [
       "       loss  accuracy  params_epochs  params_learning_rate  params_units  \\\n",
       "0  0.548918     0.735            195              0.122372             5   \n",
       "1  0.725298     0.735            171              0.434127            10   \n",
       "2  0.560489     0.770            172              0.192156             2   \n",
       "\n",
       "       time     name  \n",
       "0  2.653508  MLP_BOW  \n",
       "1  2.466822  MLP_BOW  \n",
       "2  2.395507  MLP_BOW  "
      ],
      "text/html": [
       "<div>\n",
       "<style scoped>\n",
       "    .dataframe tbody tr th:only-of-type {\n",
       "        vertical-align: middle;\n",
       "    }\n",
       "\n",
       "    .dataframe tbody tr th {\n",
       "        vertical-align: top;\n",
       "    }\n",
       "\n",
       "    .dataframe thead th {\n",
       "        text-align: right;\n",
       "    }\n",
       "</style>\n",
       "<table border=\"1\" class=\"dataframe\">\n",
       "  <thead>\n",
       "    <tr style=\"text-align: right;\">\n",
       "      <th></th>\n",
       "      <th>loss</th>\n",
       "      <th>accuracy</th>\n",
       "      <th>params_epochs</th>\n",
       "      <th>params_learning_rate</th>\n",
       "      <th>params_units</th>\n",
       "      <th>time</th>\n",
       "      <th>name</th>\n",
       "    </tr>\n",
       "  </thead>\n",
       "  <tbody>\n",
       "    <tr>\n",
       "      <th>0</th>\n",
       "      <td>0.548918</td>\n",
       "      <td>0.735</td>\n",
       "      <td>195</td>\n",
       "      <td>0.122372</td>\n",
       "      <td>5</td>\n",
       "      <td>2.653508</td>\n",
       "      <td>MLP_BOW</td>\n",
       "    </tr>\n",
       "    <tr>\n",
       "      <th>1</th>\n",
       "      <td>0.725298</td>\n",
       "      <td>0.735</td>\n",
       "      <td>171</td>\n",
       "      <td>0.434127</td>\n",
       "      <td>10</td>\n",
       "      <td>2.466822</td>\n",
       "      <td>MLP_BOW</td>\n",
       "    </tr>\n",
       "    <tr>\n",
       "      <th>2</th>\n",
       "      <td>0.560489</td>\n",
       "      <td>0.770</td>\n",
       "      <td>172</td>\n",
       "      <td>0.192156</td>\n",
       "      <td>2</td>\n",
       "      <td>2.395507</td>\n",
       "      <td>MLP_BOW</td>\n",
       "    </tr>\n",
       "  </tbody>\n",
       "</table>\n",
       "</div>"
      ]
     },
     "execution_count": 16,
     "metadata": {},
     "output_type": "execute_result"
    }
   ],
   "execution_count": 16
  },
  {
   "metadata": {
    "ExecuteTime": {
     "end_time": "2025-06-15T18:55:30.521659Z",
     "start_time": "2025-06-15T18:55:24.709717Z"
    }
   },
   "cell_type": "code",
   "source": [
    "\"\"\"\n",
    "2.2) BOW encoding\n",
    "\"\"\"\n",
    "X_train_TF, X_test_TF, Y_train_TF, Y_test_TF = dataset.get_encodings(tdidf=False)\n",
    "\n",
    "mlp_bow_params = mlp.find_best_mlp(X_train=X_train_TF,\n",
    "                                      Y_train=Y_train_TF,\n",
    "                                      X_test=X_test_TF,\n",
    "                                      Y_test=Y_test_TF,\n",
    "                                      n_trials = 3,\n",
    "                                     encoding=\"BOW\")"
   ],
   "id": "34d28f9ed7424143",
   "outputs": [
    {
     "name": "stderr",
     "output_type": "stream",
     "text": [
      "[I 2025-06-15 20:55:24,721] A new study created in memory with name: mlp_optimization\n",
      "[I 2025-06-15 20:55:26,574] Trial 0 finished with values: [0.6566829681396484, 0.5799999833106995] and parameters: {'epochs': 110, 'learning_rate': 0.015252602040205392, 'units': 5}.\n",
      "[I 2025-06-15 20:55:28,375] Trial 1 finished with values: [0.783537745475769, 0.75] and parameters: {'epochs': 107, 'learning_rate': 0.23558898005821538, 'units': 2}.\n",
      "[I 2025-06-15 20:55:30,514] Trial 2 finished with values: [0.5722466707229614, 0.7099999785423279] and parameters: {'epochs': 126, 'learning_rate': 0.04440677561981615, 'units': 4}.\n"
     ]
    }
   ],
   "execution_count": 18
  },
  {
   "metadata": {
    "ExecuteTime": {
     "end_time": "2025-06-15T18:55:31.872776Z",
     "start_time": "2025-06-15T18:55:31.864776Z"
    }
   },
   "cell_type": "code",
   "source": "mlp_bow_params",
   "id": "8dd325ad952b8420",
   "outputs": [
    {
     "data": {
      "text/plain": [
       "       loss  accuracy  params_epochs  params_learning_rate  params_units  \\\n",
       "0  0.656683      0.58            110              0.015253             5   \n",
       "1  0.572247      0.71            126              0.044407             4   \n",
       "2  0.783538      0.75            107              0.235589             2   \n",
       "\n",
       "       time     name  \n",
       "0  1.851849  MLP_BOW  \n",
       "1  2.139020  MLP_BOW  \n",
       "2  1.800016  MLP_BOW  "
      ],
      "text/html": [
       "<div>\n",
       "<style scoped>\n",
       "    .dataframe tbody tr th:only-of-type {\n",
       "        vertical-align: middle;\n",
       "    }\n",
       "\n",
       "    .dataframe tbody tr th {\n",
       "        vertical-align: top;\n",
       "    }\n",
       "\n",
       "    .dataframe thead th {\n",
       "        text-align: right;\n",
       "    }\n",
       "</style>\n",
       "<table border=\"1\" class=\"dataframe\">\n",
       "  <thead>\n",
       "    <tr style=\"text-align: right;\">\n",
       "      <th></th>\n",
       "      <th>loss</th>\n",
       "      <th>accuracy</th>\n",
       "      <th>params_epochs</th>\n",
       "      <th>params_learning_rate</th>\n",
       "      <th>params_units</th>\n",
       "      <th>time</th>\n",
       "      <th>name</th>\n",
       "    </tr>\n",
       "  </thead>\n",
       "  <tbody>\n",
       "    <tr>\n",
       "      <th>0</th>\n",
       "      <td>0.656683</td>\n",
       "      <td>0.58</td>\n",
       "      <td>110</td>\n",
       "      <td>0.015253</td>\n",
       "      <td>5</td>\n",
       "      <td>1.851849</td>\n",
       "      <td>MLP_BOW</td>\n",
       "    </tr>\n",
       "    <tr>\n",
       "      <th>1</th>\n",
       "      <td>0.572247</td>\n",
       "      <td>0.71</td>\n",
       "      <td>126</td>\n",
       "      <td>0.044407</td>\n",
       "      <td>4</td>\n",
       "      <td>2.139020</td>\n",
       "      <td>MLP_BOW</td>\n",
       "    </tr>\n",
       "    <tr>\n",
       "      <th>2</th>\n",
       "      <td>0.783538</td>\n",
       "      <td>0.75</td>\n",
       "      <td>107</td>\n",
       "      <td>0.235589</td>\n",
       "      <td>2</td>\n",
       "      <td>1.800016</td>\n",
       "      <td>MLP_BOW</td>\n",
       "    </tr>\n",
       "  </tbody>\n",
       "</table>\n",
       "</div>"
      ]
     },
     "execution_count": 19,
     "metadata": {},
     "output_type": "execute_result"
    }
   ],
   "execution_count": 19
  },
  {
   "metadata": {},
   "cell_type": "code",
   "outputs": [],
   "execution_count": null,
   "source": [
    "\"\"\"\n",
    "3) Accuracy analysis for RNN models.\n",
    "3.1) Classical RNN.\n",
    "\"\"\"\n"
   ],
   "id": "909672dd396a2be6"
  }
 ],
 "metadata": {
  "kernelspec": {
   "display_name": "Python 3",
   "language": "python",
   "name": "python3"
  },
  "language_info": {
   "codemirror_mode": {
    "name": "ipython",
    "version": 2
   },
   "file_extension": ".py",
   "mimetype": "text/x-python",
   "name": "python",
   "nbconvert_exporter": "python",
   "pygments_lexer": "ipython2",
   "version": "2.7.6"
  }
 },
 "nbformat": 4,
 "nbformat_minor": 5
}
