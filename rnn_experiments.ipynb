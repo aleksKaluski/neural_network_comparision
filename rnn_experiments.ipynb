{
 "cells": [
  {
   "cell_type": "code",
   "id": "initial_id",
   "metadata": {
    "collapsed": true,
    "ExecuteTime": {
     "end_time": "2025-06-14T17:16:23.152807Z",
     "start_time": "2025-06-14T17:16:14.920433Z"
    }
   },
   "source": [
    "import source.prepare_data as prd\n",
    "import source.dataset as dat\n",
    "import source.multi_layer_perceptron as mlp\n",
    "import source.table as tb\n",
    "import source.comparision as comp\n",
    "import source.recurent_neural_networks as rnn"
   ],
   "outputs": [
    {
     "name": "stdout",
     "output_type": "stream",
     "text": [
      "WARNING:tensorflow:From C:\\Python_files\\DL_final2\\.venv\\lib\\site-packages\\keras\\src\\losses.py:2976: The name tf.losses.sparse_softmax_cross_entropy is deprecated. Please use tf.compat.v1.losses.sparse_softmax_cross_entropy instead.\n",
      "\n"
     ]
    },
    {
     "name": "stderr",
     "output_type": "stream",
     "text": [
      "C:\\Python_files\\DL_final2\\.venv\\lib\\site-packages\\tqdm\\auto.py:21: TqdmWarning: IProgress not found. Please update jupyter and ipywidgets. See https://ipywidgets.readthedocs.io/en/stable/user_install.html\n",
      "  from .autonotebook import tqdm as notebook_tqdm\n"
     ]
    }
   ],
   "execution_count": 1
  },
  {
   "metadata": {
    "ExecuteTime": {
     "end_time": "2025-06-14T17:16:25.728381Z",
     "start_time": "2025-06-14T17:16:24.975094Z"
    }
   },
   "cell_type": "code",
   "source": [
    "import pandas as pd\n",
    "import spacy\n",
    "from importlib import reload\n",
    "from tensorflow.keras.preprocessing.text import Tokenizer\n",
    "from tensorflow.keras.preprocessing.sequence import pad_sequences"
   ],
   "id": "8abec47dad32bca7",
   "outputs": [],
   "execution_count": 2
  },
  {
   "metadata": {
    "ExecuteTime": {
     "end_time": "2025-06-14T17:16:27.350381Z",
     "start_time": "2025-06-14T17:16:27.339869Z"
    }
   },
   "cell_type": "code",
   "source": [
    "reload(prd)\n",
    "reload(dat)\n",
    "reload(mlp)\n",
    "reload(tb)\n",
    "reload(comp)\n",
    "reload(rnn)"
   ],
   "id": "2e07b5f6692d4c3a",
   "outputs": [
    {
     "data": {
      "text/plain": [
       "<module 'source.recurent_neural_networks' from 'C:\\\\Python_files\\\\DL_final2\\\\source\\\\recurent_neural_networks.py'>"
      ]
     },
     "execution_count": 3,
     "metadata": {},
     "output_type": "execute_result"
    }
   ],
   "execution_count": 3
  },
  {
   "metadata": {
    "ExecuteTime": {
     "end_time": "2025-06-14T17:16:31.910999Z",
     "start_time": "2025-06-14T17:16:28.861795Z"
    }
   },
   "cell_type": "code",
   "source": [
    "\"\"\"\n",
    "1) Preprocessing\n",
    "\"\"\"\n",
    "# load models and dataset\n",
    "df = pd.read_csv(\"hf://datasets/gxb912/large-twitter-tweets-sentiment/train.csv\", nrows=100)\n",
    "nlp = spacy.load(\"en_core_web_sm\")"
   ],
   "id": "3aab2976cc1c1cc7",
   "outputs": [],
   "execution_count": 4
  },
  {
   "metadata": {
    "ExecuteTime": {
     "end_time": "2025-06-14T17:16:36.568288Z",
     "start_time": "2025-06-14T17:16:36.012208Z"
    }
   },
   "cell_type": "code",
   "source": [
    "# prepare dataset\n",
    "df = prd.prepare_df(df, nlp)\n",
    "\n",
    "# create dataset out of cleaned columns\n",
    "dataset = dat.Text_Dataset(df, col_text=\"clean_text_str\", col_label=\"sentiment\", args={\"max_features\":5000})\n",
    "dataset.split_dataset()"
   ],
   "id": "3d6ac1941b653f9a",
   "outputs": [],
   "execution_count": 5
  },
  {
   "metadata": {
    "ExecuteTime": {
     "end_time": "2025-06-14T17:17:58.396160Z",
     "start_time": "2025-06-14T17:17:57.802668Z"
    }
   },
   "cell_type": "code",
   "source": "X_train, X_test, Y_train, Y_test = dataset.get_sequences(vocab_size=1000, maxlen=10)\n",
   "id": "f0bdd06b5b0c64b6",
   "outputs": [
    {
     "name": "stdout",
     "output_type": "stream",
     "text": [
      "WARNING:tensorflow:From C:\\Python_files\\DL_final2\\.venv\\lib\\site-packages\\keras\\src\\backend.py:873: The name tf.get_default_graph is deprecated. Please use tf.compat.v1.get_default_graph instead.\n",
      "\n",
      "WARNING:tensorflow:From C:\\Python_files\\DL_final2\\.venv\\lib\\site-packages\\keras\\src\\utils\\tf_utils.py:492: The name tf.ragged.RaggedTensorValue is deprecated. Please use tf.compat.v1.ragged.RaggedTensorValue instead.\n",
      "\n"
     ]
    }
   ],
   "execution_count": 6
  },
  {
   "metadata": {
    "ExecuteTime": {
     "end_time": "2025-06-14T17:18:16.967241Z",
     "start_time": "2025-06-14T17:18:16.953167Z"
    }
   },
   "cell_type": "code",
   "source": "print(X_train)",
   "id": "20378c46002d3aa",
   "outputs": [
    {
     "name": "stdout",
     "output_type": "stream",
     "text": [
      "[[  2 326  28  16 316  64  36  48   3 394]\n",
      " [219  44 371 381  11 339   3  74   2  31]\n",
      " [  6 111 137 214 118 148   4 109 258 359]\n",
      " [ 42   6 239  45   3  58   6 227  68  81]\n",
      " [ 30 346   7  20  61 243   5 441 363   5]\n",
      " [  7 221 216  11   9  68   2   3   6 106]\n",
      " [  8  33  45  11 261  47  19 398  33 400]\n",
      " [  2  42   6 301  39  19   7 149   4 369]\n",
      " [ 84   2  35  27 306  77  85   0   0   0]\n",
      " [  2  35 101  86   3 108  50 272   5 123]\n",
      " [229  52  46  30 376  63 289 213   2 146]\n",
      " [ 56   3   5  15   4 218  23   3 164 110]\n",
      " [ 10   4  15  77  18 427 334 297   2  55]\n",
      " [ 28 117 285  22 228   0   0   0   0   0]\n",
      " [  2   3  37 347   5  64  12  13 342   0]\n",
      " [ 14 355 144  30   4  45   0   0   0   0]\n",
      " [330 112  98  16   7 325   2 419   5 328]\n",
      " [242  54  69   3 357   0   0   0   0   0]\n",
      " [190 298   0   0   0   0   0   0   0   0]\n",
      " [426 111   2 102   8  73  43   0   0   0]\n",
      " [ 29   5 165 175  17 336   0   0   0   0]\n",
      " [356   2  59 362  51  53  56  41 222 171]\n",
      " [318 382  32  70  33   5 291  49  16 160]\n",
      " [ 57  70   5  21 406  12  92 375 105  37]\n",
      " [ 14  22   0   0   0   0   0   0   0   0]\n",
      " [434   0   0   0   0   0   0   0   0   0]\n",
      " [ 25  62   4  34   0   0   0   0   0   0]\n",
      " [ 82  16 390   2  29  54  68 106 404   2]\n",
      " [396 103   3   7 308  47  57 174 145 103]\n",
      " [107 236   3  40 196 224  72 153  24   5]\n",
      " [ 71  38  48 370 279  24  91  35  41  15]\n",
      " [  2  29   6 312 379   7  53 257   0   0]\n",
      " [269  37   2  39   4  15 349   9 127   9]\n",
      " [  2  39 197  14  61   4 133 102  14  51]\n",
      " [ 17 424   5 112   2  59   7  98  27  22]\n",
      " [333 436 432  33   6 374 284  12   2   3]\n",
      " [  2  95   2  55   2  21 147 393   6 310]\n",
      " [ 31  22  44  13 367 123   9   3  57   0]\n",
      " [ 35  44 156   2 217  54  36   9   3   6]\n",
      " [  2  31  40 389  34   0   0   0   0   0]\n",
      " [ 48   3   0   0   0   0   0   0   0   0]\n",
      " [226 302 210 206 337  50 414 288   0   0]\n",
      " [ 23  27 180  25   7 385  69 280 114 115]\n",
      " [  2  93 255   8 399  12  26 281  24   2]\n",
      " [ 80   6 409   4   6 124  32  26  89   2]\n",
      " [ 66  19   6 207   0   0   0   0   0   0]\n",
      " [ 84  43   3  74   2 168  32 105   2  29]\n",
      " [ 44   4  15  49  76 307   0   0   0   0]\n",
      " [  2 343  29   5   8 294  96  10 118 276]\n",
      " [ 66  27  72   0   0   0   0   0   0   0]\n",
      " [  2   8 366   5 373  32  23  47  18 179]\n",
      " [425  38 260 189 411   0   0   0   0   0]\n",
      " [ 11  92 321  97   0   0   0   0   0   0]\n",
      " [  2  10  38 305  24   2 231  16   7 250]\n",
      " [187 319 341   0   0   0   0   0   0   0]\n",
      " [259   0   0   0   0   0   0   0   0   0]\n",
      " [ 13 384   3  11  30 386 181 360  18   7]\n",
      " [  2 176  46 113 248  15 125   0   0   0]\n",
      " [ 27   2  10  13 232 383  99 113 249 380]\n",
      " [439 108 178 104   5 199  94   7  69 225]\n",
      " [ 31 223 141  34   0   0   0   0   0   0]\n",
      " [  6 198 329   2  40   9   0   0   0   0]\n",
      " [ 20 136  46  86  10  67  26  89   0   0]\n",
      " [  3  37 245 429  13 275 142  99 127 314]\n",
      " [420 119  18 247 274 267  34 423  11 407]\n",
      " [ 17  24   4   3 313   9 290 435 431   9]\n",
      " [372  41 351  20  34  17   2  21  15  49]\n",
      " [443   2  10   4  51  19   7  76 167  11]\n",
      " [ 88  32  26  75  15  79 139 256  39   4]\n",
      " [ 82   2   8  36  27   2  35   2  40   4]\n",
      " [ 22  22 235  14 392 422   0   0   0   0]\n",
      " [157 170  79   0   0   0   0   0   0   0]\n",
      " [ 42  91 191  90  49  19   5 193   0   0]\n",
      " [303  66   5   0   0   0   0   0   0   0]\n",
      " [240  42   5 244   0   0   0   0   0   0]\n",
      " [ 71  38  23 364  22  87  52  21  97   7]\n",
      " [ 10   6  22  20 121   0   0   0   0   0]\n",
      " [131  41  60 100   2  55  14  30   9 169]\n",
      " [350  77   2  39   4  93 194  60 361 252]\n",
      " [ 71 335  42  48   3  70 116 309  85   0]]\n"
     ]
    }
   ],
   "execution_count": 8
  }
 ],
 "metadata": {
  "kernelspec": {
   "display_name": "Python 3",
   "language": "python",
   "name": "python3"
  },
  "language_info": {
   "codemirror_mode": {
    "name": "ipython",
    "version": 2
   },
   "file_extension": ".py",
   "mimetype": "text/x-python",
   "name": "python",
   "nbconvert_exporter": "python",
   "pygments_lexer": "ipython2",
   "version": "2.7.6"
  }
 },
 "nbformat": 4,
 "nbformat_minor": 5
}
