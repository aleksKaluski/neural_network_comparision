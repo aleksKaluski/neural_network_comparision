{
 "cells": [
  {
   "metadata": {
    "ExecuteTime": {
     "end_time": "2025-06-12T10:46:04.958041Z",
     "start_time": "2025-06-12T10:45:30.586771Z"
    }
   },
   "cell_type": "code",
   "source": [
    "from itertools import product\n",
    "from pandas import DataFrame\n",
    "import pandas as pd\n",
    "import numpy as np\n",
    "import spacy\n",
    "import os\n",
    "from pathlib import Path\n",
    "from sklearn.feature_extraction.text import CountVectorizer\n",
    "from sklearn.feature_extraction.text import TfidfVectorizer\n",
    "from sklearn.preprocessing import LabelEncoder, OneHotEncoder, OrdinalEncoder\n",
    "import tensorflow as tf\n",
    "from sklearn.model_selection import train_test_split"
   ],
   "id": "cfc16f21eb4ca062",
   "outputs": [
    {
     "name": "stdout",
     "output_type": "stream",
     "text": [
      "WARNING:tensorflow:From C:\\Python_files\\DL_final2\\.venv\\lib\\site-packages\\keras\\src\\losses.py:2976: The name tf.losses.sparse_softmax_cross_entropy is deprecated. Please use tf.compat.v1.losses.sparse_softmax_cross_entropy instead.\n",
      "\n"
     ]
    }
   ],
   "execution_count": 1
  },
  {
   "metadata": {
    "ExecuteTime": {
     "end_time": "2025-06-12T12:58:05.957401Z",
     "start_time": "2025-06-12T12:58:05.945897Z"
    }
   },
   "cell_type": "code",
   "source": [
    "from source import prepare_data\n",
    "from source import dataset as dat\n",
    "from source import multi_layer_perceptron as mlp"
   ],
   "id": "e4262c783038052e",
   "outputs": [],
   "execution_count": 13
  },
  {
   "cell_type": "code",
   "id": "initial_id",
   "metadata": {
    "collapsed": true,
    "ExecuteTime": {
     "end_time": "2025-06-12T12:17:00.887975Z",
     "start_time": "2025-06-12T12:16:58.722047Z"
    }
   },
   "source": [
    "\"\"\"\n",
    "Preprocessing\n",
    "\"\"\"\n",
    "# load models and dataset\n",
    "df = pd.read_csv(\"hf://datasets/gxb912/large-twitter-tweets-sentiment/train.csv\", nrows=100)\n",
    "nlp = spacy.load(\"en_core_web_sm\")\n",
    "\n",
    "# prepare dataset\n",
    "df = prepare_data.prepare_df(df, nlp)"
   ],
   "outputs": [],
   "execution_count": 5
  },
  {
   "metadata": {
    "ExecuteTime": {
     "end_time": "2025-06-12T12:17:02.713672Z",
     "start_time": "2025-06-12T12:17:02.702102Z"
    }
   },
   "cell_type": "code",
   "source": "df",
   "id": "b5014dfa74f7cfaf",
   "outputs": [
    {
     "data": {
      "text/plain": [
       "    sentiment                                         clean_text  \\\n",
       "0           1                [love, you, toooooo, TG, LOL, Gngb]   \n",
       "1           0  [I, tell, myself, do, click, on, this, link, b...   \n",
       "2           0  [the, man, who, render, his, voice, to, Mickey...   \n",
       "3           1  [I, think, red, would, be, nice, or, maybe, yo...   \n",
       "4           0  [I, guess, one, of, her, tweet, say, she, be, ...   \n",
       "..        ...                                                ...   \n",
       "95          0  [no, way, be, I, go, to, finish, this, coursew...   \n",
       "96          1  [do, with, work, and, Mondayitis, time, for, c...   \n",
       "97          0  [yea, its, very, sad, I, will, not, get, it, t...   \n",
       "98          1  [got, an, appointment, with, the, Doc, later, ...   \n",
       "99          1  [get, follower, a, day, use, once, you, add, e...   \n",
       "\n",
       "                                       clean_text_str  \\\n",
       "0                        love you toooooo TG LOL Gngb   \n",
       "1   I tell myself do click on this link but I just...   \n",
       "2   the man who render his voice to Mickey Mouse e...   \n",
       "3   I think red would be nice or maybe you could d...   \n",
       "4        I guess one of her tweet say she be confused   \n",
       "..                                                ...   \n",
       "95  no way be I go to finish this coursework for t...   \n",
       "96  do with work and Mondayitis time for coffee wi...   \n",
       "97  yea its very sad I will not get it till I get ...   \n",
       "98  got an appointment with the Doc later on I be ...   \n",
       "99  get follower a day use once you add everyone y...   \n",
       "\n",
       "                                                 text  \n",
       "0      @tonigirl14 love you toooooo ! ! TG   LOL Gngb  \n",
       "1   @jun6lee I told myself : Do n't click on this ...  \n",
       "2   The man who rendered his voice to Mickey Mouse...  \n",
       "3   @Shontelle_Layne I think red would be nice .  ...  \n",
       "4   @Silverlines - I guess . 'Cause one of her twe...  \n",
       "..                                                ...  \n",
       "95  No way am i gon na finish this coursework for ...  \n",
       "96  Done with work and Mondayitis . Time for coffe...  \n",
       "97  @livnb yeas its very sad .. i wo nt get it til...  \n",
       "98  Got an appointment with the Doc later on ... I...  \n",
       "99  @mschantel_426 Get 100 followers a day using w...  \n",
       "\n",
       "[100 rows x 4 columns]"
      ],
      "text/html": [
       "<div>\n",
       "<style scoped>\n",
       "    .dataframe tbody tr th:only-of-type {\n",
       "        vertical-align: middle;\n",
       "    }\n",
       "\n",
       "    .dataframe tbody tr th {\n",
       "        vertical-align: top;\n",
       "    }\n",
       "\n",
       "    .dataframe thead th {\n",
       "        text-align: right;\n",
       "    }\n",
       "</style>\n",
       "<table border=\"1\" class=\"dataframe\">\n",
       "  <thead>\n",
       "    <tr style=\"text-align: right;\">\n",
       "      <th></th>\n",
       "      <th>sentiment</th>\n",
       "      <th>clean_text</th>\n",
       "      <th>clean_text_str</th>\n",
       "      <th>text</th>\n",
       "    </tr>\n",
       "  </thead>\n",
       "  <tbody>\n",
       "    <tr>\n",
       "      <th>0</th>\n",
       "      <td>1</td>\n",
       "      <td>[love, you, toooooo, TG, LOL, Gngb]</td>\n",
       "      <td>love you toooooo TG LOL Gngb</td>\n",
       "      <td>@tonigirl14 love you toooooo ! ! TG   LOL Gngb</td>\n",
       "    </tr>\n",
       "    <tr>\n",
       "      <th>1</th>\n",
       "      <td>0</td>\n",
       "      <td>[I, tell, myself, do, click, on, this, link, b...</td>\n",
       "      <td>I tell myself do click on this link but I just...</td>\n",
       "      <td>@jun6lee I told myself : Do n't click on this ...</td>\n",
       "    </tr>\n",
       "    <tr>\n",
       "      <th>2</th>\n",
       "      <td>0</td>\n",
       "      <td>[the, man, who, render, his, voice, to, Mickey...</td>\n",
       "      <td>the man who render his voice to Mickey Mouse e...</td>\n",
       "      <td>The man who rendered his voice to Mickey Mouse...</td>\n",
       "    </tr>\n",
       "    <tr>\n",
       "      <th>3</th>\n",
       "      <td>1</td>\n",
       "      <td>[I, think, red, would, be, nice, or, maybe, yo...</td>\n",
       "      <td>I think red would be nice or maybe you could d...</td>\n",
       "      <td>@Shontelle_Layne I think red would be nice .  ...</td>\n",
       "    </tr>\n",
       "    <tr>\n",
       "      <th>4</th>\n",
       "      <td>0</td>\n",
       "      <td>[I, guess, one, of, her, tweet, say, she, be, ...</td>\n",
       "      <td>I guess one of her tweet say she be confused</td>\n",
       "      <td>@Silverlines - I guess . 'Cause one of her twe...</td>\n",
       "    </tr>\n",
       "    <tr>\n",
       "      <th>...</th>\n",
       "      <td>...</td>\n",
       "      <td>...</td>\n",
       "      <td>...</td>\n",
       "      <td>...</td>\n",
       "    </tr>\n",
       "    <tr>\n",
       "      <th>95</th>\n",
       "      <td>0</td>\n",
       "      <td>[no, way, be, I, go, to, finish, this, coursew...</td>\n",
       "      <td>no way be I go to finish this coursework for t...</td>\n",
       "      <td>No way am i gon na finish this coursework for ...</td>\n",
       "    </tr>\n",
       "    <tr>\n",
       "      <th>96</th>\n",
       "      <td>1</td>\n",
       "      <td>[do, with, work, and, Mondayitis, time, for, c...</td>\n",
       "      <td>do with work and Mondayitis time for coffee wi...</td>\n",
       "      <td>Done with work and Mondayitis . Time for coffe...</td>\n",
       "    </tr>\n",
       "    <tr>\n",
       "      <th>97</th>\n",
       "      <td>0</td>\n",
       "      <td>[yea, its, very, sad, I, will, not, get, it, t...</td>\n",
       "      <td>yea its very sad I will not get it till I get ...</td>\n",
       "      <td>@livnb yeas its very sad .. i wo nt get it til...</td>\n",
       "    </tr>\n",
       "    <tr>\n",
       "      <th>98</th>\n",
       "      <td>1</td>\n",
       "      <td>[got, an, appointment, with, the, Doc, later, ...</td>\n",
       "      <td>got an appointment with the Doc later on I be ...</td>\n",
       "      <td>Got an appointment with the Doc later on ... I...</td>\n",
       "    </tr>\n",
       "    <tr>\n",
       "      <th>99</th>\n",
       "      <td>1</td>\n",
       "      <td>[get, follower, a, day, use, once, you, add, e...</td>\n",
       "      <td>get follower a day use once you add everyone y...</td>\n",
       "      <td>@mschantel_426 Get 100 followers a day using w...</td>\n",
       "    </tr>\n",
       "  </tbody>\n",
       "</table>\n",
       "<p>100 rows × 4 columns</p>\n",
       "</div>"
      ]
     },
     "execution_count": 6,
     "metadata": {},
     "output_type": "execute_result"
    }
   ],
   "execution_count": 6
  },
  {
   "metadata": {
    "ExecuteTime": {
     "end_time": "2025-06-12T12:55:13.153592Z",
     "start_time": "2025-06-12T12:55:13.131570Z"
    }
   },
   "cell_type": "code",
   "source": [
    "dataset = dat.Text_Dataset(df, col_text=\"clean_text_str\", col_label=\"sentiment\", args={\"max_features\":5000})\n",
    "dataset.split_dataset()"
   ],
   "id": "50ce0eb43375b92f",
   "outputs": [],
   "execution_count": 7
  },
  {
   "metadata": {
    "ExecuteTime": {
     "end_time": "2025-06-12T12:58:11.670244Z",
     "start_time": "2025-06-12T12:58:09.766678Z"
    }
   },
   "cell_type": "code",
   "source": [
    "X_train_TF, X_test_TF, Y_train_TF, Y_test_TF = dataset.get_encodings(tfidf=True)\n",
    "\n",
    "ev = mlp.find_best_mlp(X_train=X_train_TF,\n",
    "                  Y_train=Y_train_TF,\n",
    "                  X_test=X_test_TF,\n",
    "                  Y_test=Y_test_TF,\n",
    "                  n_trials = 3)"
   ],
   "id": "63b98566bf771520",
   "outputs": [
    {
     "name": "stderr",
     "output_type": "stream",
     "text": [
      "[I 2025-06-12 14:58:09,770] A new study created in memory with name: mlp_optimization\n",
      "[I 2025-06-12 14:58:10,433] Trial 0 finished with values: [0.6840411424636841, 0.550000011920929] and parameters: {'epochs': 163, 'learning_rate': 0.481149546618212, 'units': 10}.\n",
      "[I 2025-06-12 14:58:10,978] Trial 1 finished with values: [0.6570560932159424, 0.550000011920929] and parameters: {'epochs': 128, 'learning_rate': 0.43366987184597494, 'units': 10}.\n",
      "[I 2025-06-12 14:58:11,655] Trial 2 finished with values: [0.6658757328987122, 0.6000000238418579] and parameters: {'epochs': 184, 'learning_rate': 0.3199867633429609, 'units': 2}.\n"
     ]
    },
    {
     "name": "stdout",
     "output_type": "stream",
     "text": [
      "   number      loss  accuracy             datetime_start  \\\n",
      "0       0  0.684041      0.55 2025-06-12 14:58:09.770677   \n",
      "1       1  0.657056      0.55 2025-06-12 14:58:10.433308   \n",
      "2       2  0.665876      0.60 2025-06-12 14:58:10.979058   \n",
      "\n",
      "           datetime_complete               duration  params_epochs  \\\n",
      "0 2025-06-12 14:58:10.433308 0 days 00:00:00.662631            163   \n",
      "1 2025-06-12 14:58:10.978056 0 days 00:00:00.544748            128   \n",
      "2 2025-06-12 14:58:11.654735 0 days 00:00:00.675677            184   \n",
      "\n",
      "   params_learning_rate  params_units  system_attrs_NSGAIISampler:generation  \\\n",
      "0              0.481150            10                                      0   \n",
      "1              0.433670            10                                      0   \n",
      "2              0.319987             2                                      0   \n",
      "\n",
      "      state  \n",
      "0  COMPLETE  \n",
      "1  COMPLETE  \n",
      "2  COMPLETE  \n"
     ]
    }
   ],
   "execution_count": 14
  },
  {
   "metadata": {
    "ExecuteTime": {
     "end_time": "2025-06-12T12:58:14.321361Z",
     "start_time": "2025-06-12T12:58:14.303839Z"
    }
   },
   "cell_type": "code",
   "source": "ev",
   "id": "dcb47326df1138fe",
   "outputs": [
    {
     "data": {
      "text/plain": [
       "   number      loss  accuracy             datetime_start  \\\n",
       "0       0  0.684041      0.55 2025-06-12 14:58:09.770677   \n",
       "1       1  0.657056      0.55 2025-06-12 14:58:10.433308   \n",
       "2       2  0.665876      0.60 2025-06-12 14:58:10.979058   \n",
       "\n",
       "           datetime_complete               duration  params_epochs  \\\n",
       "0 2025-06-12 14:58:10.433308 0 days 00:00:00.662631            163   \n",
       "1 2025-06-12 14:58:10.978056 0 days 00:00:00.544748            128   \n",
       "2 2025-06-12 14:58:11.654735 0 days 00:00:00.675677            184   \n",
       "\n",
       "   params_learning_rate  params_units  system_attrs_NSGAIISampler:generation  \\\n",
       "0              0.481150            10                                      0   \n",
       "1              0.433670            10                                      0   \n",
       "2              0.319987             2                                      0   \n",
       "\n",
       "      state  \n",
       "0  COMPLETE  \n",
       "1  COMPLETE  \n",
       "2  COMPLETE  "
      ],
      "text/html": [
       "<div>\n",
       "<style scoped>\n",
       "    .dataframe tbody tr th:only-of-type {\n",
       "        vertical-align: middle;\n",
       "    }\n",
       "\n",
       "    .dataframe tbody tr th {\n",
       "        vertical-align: top;\n",
       "    }\n",
       "\n",
       "    .dataframe thead th {\n",
       "        text-align: right;\n",
       "    }\n",
       "</style>\n",
       "<table border=\"1\" class=\"dataframe\">\n",
       "  <thead>\n",
       "    <tr style=\"text-align: right;\">\n",
       "      <th></th>\n",
       "      <th>number</th>\n",
       "      <th>loss</th>\n",
       "      <th>accuracy</th>\n",
       "      <th>datetime_start</th>\n",
       "      <th>datetime_complete</th>\n",
       "      <th>duration</th>\n",
       "      <th>params_epochs</th>\n",
       "      <th>params_learning_rate</th>\n",
       "      <th>params_units</th>\n",
       "      <th>system_attrs_NSGAIISampler:generation</th>\n",
       "      <th>state</th>\n",
       "    </tr>\n",
       "  </thead>\n",
       "  <tbody>\n",
       "    <tr>\n",
       "      <th>0</th>\n",
       "      <td>0</td>\n",
       "      <td>0.684041</td>\n",
       "      <td>0.55</td>\n",
       "      <td>2025-06-12 14:58:09.770677</td>\n",
       "      <td>2025-06-12 14:58:10.433308</td>\n",
       "      <td>0 days 00:00:00.662631</td>\n",
       "      <td>163</td>\n",
       "      <td>0.481150</td>\n",
       "      <td>10</td>\n",
       "      <td>0</td>\n",
       "      <td>COMPLETE</td>\n",
       "    </tr>\n",
       "    <tr>\n",
       "      <th>1</th>\n",
       "      <td>1</td>\n",
       "      <td>0.657056</td>\n",
       "      <td>0.55</td>\n",
       "      <td>2025-06-12 14:58:10.433308</td>\n",
       "      <td>2025-06-12 14:58:10.978056</td>\n",
       "      <td>0 days 00:00:00.544748</td>\n",
       "      <td>128</td>\n",
       "      <td>0.433670</td>\n",
       "      <td>10</td>\n",
       "      <td>0</td>\n",
       "      <td>COMPLETE</td>\n",
       "    </tr>\n",
       "    <tr>\n",
       "      <th>2</th>\n",
       "      <td>2</td>\n",
       "      <td>0.665876</td>\n",
       "      <td>0.60</td>\n",
       "      <td>2025-06-12 14:58:10.979058</td>\n",
       "      <td>2025-06-12 14:58:11.654735</td>\n",
       "      <td>0 days 00:00:00.675677</td>\n",
       "      <td>184</td>\n",
       "      <td>0.319987</td>\n",
       "      <td>2</td>\n",
       "      <td>0</td>\n",
       "      <td>COMPLETE</td>\n",
       "    </tr>\n",
       "  </tbody>\n",
       "</table>\n",
       "</div>"
      ]
     },
     "execution_count": 15,
     "metadata": {},
     "output_type": "execute_result"
    }
   ],
   "execution_count": 15
  }
 ],
 "metadata": {
  "kernelspec": {
   "display_name": "Python 3",
   "language": "python",
   "name": "python3"
  },
  "language_info": {
   "codemirror_mode": {
    "name": "ipython",
    "version": 2
   },
   "file_extension": ".py",
   "mimetype": "text/x-python",
   "name": "python",
   "nbconvert_exporter": "python",
   "pygments_lexer": "ipython2",
   "version": "2.7.6"
  }
 },
 "nbformat": 4,
 "nbformat_minor": 5
}
