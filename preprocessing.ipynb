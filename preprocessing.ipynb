{
 "cells": [
  {
   "metadata": {
    "ExecuteTime": {
     "end_time": "2025-06-13T14:44:34.008122Z",
     "start_time": "2025-06-13T14:44:29.952877Z"
    }
   },
   "cell_type": "code",
   "source": [
    "import pandas as pd\n",
    "import numpy as np\n",
    "import spacy\n",
    "import os\n",
    "from pathlib import Path\n",
    "from importlib import reload"
   ],
   "id": "cfc16f21eb4ca062",
   "outputs": [],
   "execution_count": 1
  },
  {
   "metadata": {
    "ExecuteTime": {
     "end_time": "2025-06-13T12:45:14.817594Z",
     "start_time": "2025-06-13T12:45:11.373861Z"
    }
   },
   "cell_type": "code",
   "source": [
    "import source.prepare_data as prd\n",
    "import source.dataset as dat\n",
    "import source.multi_layer_perceptron as mlp\n",
    "import source.table as tb"
   ],
   "id": "e4262c783038052e",
   "outputs": [],
   "execution_count": 4
  },
  {
   "metadata": {},
   "cell_type": "markdown",
   "source": "",
   "id": "6cad0a7f22cd6d0a"
  },
  {
   "metadata": {
    "ExecuteTime": {
     "end_time": "2025-06-13T12:45:23.631966Z",
     "start_time": "2025-06-13T12:45:23.583747Z"
    }
   },
   "cell_type": "code",
   "source": [
    "reload(prd)\n",
    "reload(dat)\n",
    "reload(mlp)\n",
    "reload(tb)"
   ],
   "id": "928f2c2926e5c9c3",
   "outputs": [
    {
     "data": {
      "text/plain": [
       "<module 'source.table' from 'C:\\\\DL2\\\\source\\\\table.py'>"
      ]
     },
     "execution_count": 5,
     "metadata": {},
     "output_type": "execute_result"
    }
   ],
   "execution_count": 5
  },
  {
   "cell_type": "code",
   "id": "initial_id",
   "metadata": {
    "collapsed": true,
    "ExecuteTime": {
     "end_time": "2025-06-13T12:45:51.707053Z",
     "start_time": "2025-06-13T12:45:25.735777Z"
    }
   },
   "source": [
    "\"\"\"\n",
    "1) Preprocessing\n",
    "\"\"\"\n",
    "# load models and dataset\n",
    "df = pd.read_csv(\"hf://datasets/gxb912/large-twitter-tweets-sentiment/train.csv\", nrows=1000)\n",
    "nlp = spacy.load(\"en_core_web_sm\")\n",
    "\n",
    "# prepare dataset\n",
    "df = prd.prepare_df(df, nlp)\n",
    "\n",
    "# create dataset out of cleaned columns\n",
    "dataset = dat.Text_Dataset(df, col_text=\"clean_text_str\", col_label=\"sentiment\", args={\"max_features\":5000})\n",
    "dataset.split_dataset()\n"
   ],
   "outputs": [],
   "execution_count": 6
  },
  {
   "metadata": {
    "ExecuteTime": {
     "end_time": "2025-06-13T12:46:03.378681Z",
     "start_time": "2025-06-13T12:46:03.329256Z"
    }
   },
   "cell_type": "code",
   "source": "df",
   "id": "b5014dfa74f7cfaf",
   "outputs": [
    {
     "data": {
      "text/plain": [
       "     sentiment                                         clean_text  \\\n",
       "0            1                [love, you, toooooo, TG, LOL, Gngb]   \n",
       "1            0  [I, tell, myself, do, click, on, this, link, b...   \n",
       "2            0  [the, man, who, render, his, voice, to, Mickey...   \n",
       "3            1  [I, think, red, would, be, nice, or, maybe, yo...   \n",
       "4            0  [I, guess, one, of, her, tweet, say, she, be, ...   \n",
       "..         ...                                                ...   \n",
       "995          0             [do, feel, bad, cause, I, can, either]   \n",
       "996          0  [luv, your, new, pic, u, play, guitar, too, co...   \n",
       "997          1  [hey, use, my, name, on, here, now, huh, now, ...   \n",
       "998          0  [good, morning, twitter, OMFG, the, sun, be, r...   \n",
       "999          0     [grrr, do, you, have, your, prom, last, night]   \n",
       "\n",
       "                                        clean_text_str  \\\n",
       "0                         love you toooooo TG LOL Gngb   \n",
       "1    I tell myself do click on this link but I just...   \n",
       "2    the man who render his voice to Mickey Mouse e...   \n",
       "3    I think red would be nice or maybe you could d...   \n",
       "4         I guess one of her tweet say she be confused   \n",
       "..                                                 ...   \n",
       "995                     do feel bad cause I can either   \n",
       "996  luv your new pic u play guitar too come on sto...   \n",
       "997  hey use my name on here now huh now how do I h...   \n",
       "998  good morning twitter OMFG the sun be really we...   \n",
       "999              grrr do you have your prom last night   \n",
       "\n",
       "                                                  text  \n",
       "0       @tonigirl14 love you toooooo ! ! TG   LOL Gngb  \n",
       "1    @jun6lee I told myself : Do n't click on this ...  \n",
       "2    The man who rendered his voice to Mickey Mouse...  \n",
       "3    @Shontelle_Layne I think red would be nice .  ...  \n",
       "4    @Silverlines - I guess . 'Cause one of her twe...  \n",
       "..                                                 ...  \n",
       "995  @songbookbaby do n't feel bad cause I ca n't e...  \n",
       "996  @aznchicken4795 luv your new pic ... u play gu...  \n",
       "997  @Monkeylover35 Hey using my name on here now h...  \n",
       "998  good morning twitters   OMFG the sun is really...  \n",
       "999  @hollyvale   grrr . did you have your prom las...  \n",
       "\n",
       "[1000 rows x 4 columns]"
      ],
      "text/html": [
       "<div>\n",
       "<style scoped>\n",
       "    .dataframe tbody tr th:only-of-type {\n",
       "        vertical-align: middle;\n",
       "    }\n",
       "\n",
       "    .dataframe tbody tr th {\n",
       "        vertical-align: top;\n",
       "    }\n",
       "\n",
       "    .dataframe thead th {\n",
       "        text-align: right;\n",
       "    }\n",
       "</style>\n",
       "<table border=\"1\" class=\"dataframe\">\n",
       "  <thead>\n",
       "    <tr style=\"text-align: right;\">\n",
       "      <th></th>\n",
       "      <th>sentiment</th>\n",
       "      <th>clean_text</th>\n",
       "      <th>clean_text_str</th>\n",
       "      <th>text</th>\n",
       "    </tr>\n",
       "  </thead>\n",
       "  <tbody>\n",
       "    <tr>\n",
       "      <th>0</th>\n",
       "      <td>1</td>\n",
       "      <td>[love, you, toooooo, TG, LOL, Gngb]</td>\n",
       "      <td>love you toooooo TG LOL Gngb</td>\n",
       "      <td>@tonigirl14 love you toooooo ! ! TG   LOL Gngb</td>\n",
       "    </tr>\n",
       "    <tr>\n",
       "      <th>1</th>\n",
       "      <td>0</td>\n",
       "      <td>[I, tell, myself, do, click, on, this, link, b...</td>\n",
       "      <td>I tell myself do click on this link but I just...</td>\n",
       "      <td>@jun6lee I told myself : Do n't click on this ...</td>\n",
       "    </tr>\n",
       "    <tr>\n",
       "      <th>2</th>\n",
       "      <td>0</td>\n",
       "      <td>[the, man, who, render, his, voice, to, Mickey...</td>\n",
       "      <td>the man who render his voice to Mickey Mouse e...</td>\n",
       "      <td>The man who rendered his voice to Mickey Mouse...</td>\n",
       "    </tr>\n",
       "    <tr>\n",
       "      <th>3</th>\n",
       "      <td>1</td>\n",
       "      <td>[I, think, red, would, be, nice, or, maybe, yo...</td>\n",
       "      <td>I think red would be nice or maybe you could d...</td>\n",
       "      <td>@Shontelle_Layne I think red would be nice .  ...</td>\n",
       "    </tr>\n",
       "    <tr>\n",
       "      <th>4</th>\n",
       "      <td>0</td>\n",
       "      <td>[I, guess, one, of, her, tweet, say, she, be, ...</td>\n",
       "      <td>I guess one of her tweet say she be confused</td>\n",
       "      <td>@Silverlines - I guess . 'Cause one of her twe...</td>\n",
       "    </tr>\n",
       "    <tr>\n",
       "      <th>...</th>\n",
       "      <td>...</td>\n",
       "      <td>...</td>\n",
       "      <td>...</td>\n",
       "      <td>...</td>\n",
       "    </tr>\n",
       "    <tr>\n",
       "      <th>995</th>\n",
       "      <td>0</td>\n",
       "      <td>[do, feel, bad, cause, I, can, either]</td>\n",
       "      <td>do feel bad cause I can either</td>\n",
       "      <td>@songbookbaby do n't feel bad cause I ca n't e...</td>\n",
       "    </tr>\n",
       "    <tr>\n",
       "      <th>996</th>\n",
       "      <td>0</td>\n",
       "      <td>[luv, your, new, pic, u, play, guitar, too, co...</td>\n",
       "      <td>luv your new pic u play guitar too come on sto...</td>\n",
       "      <td>@aznchicken4795 luv your new pic ... u play gu...</td>\n",
       "    </tr>\n",
       "    <tr>\n",
       "      <th>997</th>\n",
       "      <td>1</td>\n",
       "      <td>[hey, use, my, name, on, here, now, huh, now, ...</td>\n",
       "      <td>hey use my name on here now huh now how do I h...</td>\n",
       "      <td>@Monkeylover35 Hey using my name on here now h...</td>\n",
       "    </tr>\n",
       "    <tr>\n",
       "      <th>998</th>\n",
       "      <td>0</td>\n",
       "      <td>[good, morning, twitter, OMFG, the, sun, be, r...</td>\n",
       "      <td>good morning twitter OMFG the sun be really we...</td>\n",
       "      <td>good morning twitters   OMFG the sun is really...</td>\n",
       "    </tr>\n",
       "    <tr>\n",
       "      <th>999</th>\n",
       "      <td>0</td>\n",
       "      <td>[grrr, do, you, have, your, prom, last, night]</td>\n",
       "      <td>grrr do you have your prom last night</td>\n",
       "      <td>@hollyvale   grrr . did you have your prom las...</td>\n",
       "    </tr>\n",
       "  </tbody>\n",
       "</table>\n",
       "<p>1000 rows × 4 columns</p>\n",
       "</div>"
      ]
     },
     "execution_count": 7,
     "metadata": {},
     "output_type": "execute_result"
    }
   ],
   "execution_count": 7
  },
  {
   "metadata": {
    "ExecuteTime": {
     "end_time": "2025-06-12T19:14:16.713558Z",
     "start_time": "2025-06-12T19:14:01.429528Z"
    }
   },
   "cell_type": "code",
   "source": [
    "\"\"\"\n",
    "2) Accuracy analysis for MLP model. We will compare the workflow of MLP by using TD-IDF encoding and BOW encoding\n",
    "\n",
    "2.1) TD-IDF encoding\n",
    "\"\"\"\n",
    "X_train_TF, X_test_TF, Y_train_TF, Y_test_TF = dataset.get_encodings(tfidf=True)\n",
    "\n",
    "mlp_tdidf_params = mlp.find_best_mlp(X_train=X_train_TF,\n",
    "                                      Y_train=Y_train_TF,\n",
    "                                      X_test=X_test_TF,\n",
    "                                      Y_test=Y_test_TF,\n",
    "                                      n_trials = 7)"
   ],
   "id": "5ea5147cfc4f4add",
   "outputs": [
    {
     "name": "stderr",
     "output_type": "stream",
     "text": [
      "[I 2025-06-12 21:14:01,442] A new study created in memory with name: mlp_optimization\n"
     ]
    },
    {
     "name": "stdout",
     "output_type": "stream",
     "text": [
      "WARNING:tensorflow:From C:\\Python_files\\DL_final2\\.venv\\lib\\site-packages\\keras\\src\\backend.py:873: The name tf.get_default_graph is deprecated. Please use tf.compat.v1.get_default_graph instead.\n",
      "\n",
      "WARNING:tensorflow:From C:\\Python_files\\DL_final2\\.venv\\lib\\site-packages\\keras\\src\\utils\\tf_utils.py:492: The name tf.ragged.RaggedTensorValue is deprecated. Please use tf.compat.v1.ragged.RaggedTensorValue instead.\n",
      "\n",
      "WARNING:tensorflow:From C:\\Python_files\\DL_final2\\.venv\\lib\\site-packages\\keras\\src\\engine\\base_layer_utils.py:384: The name tf.executing_eagerly_outside_functions is deprecated. Please use tf.compat.v1.executing_eagerly_outside_functions instead.\n",
      "\n"
     ]
    },
    {
     "name": "stderr",
     "output_type": "stream",
     "text": [
      "[I 2025-06-12 21:14:03,716] Trial 0 finished with values: [0.6606584191322327, 0.574999988079071] and parameters: {'epochs': 122, 'learning_rate': 0.09436195626192197, 'units': 2}.\n",
      "[I 2025-06-12 21:14:05,516] Trial 1 finished with values: [0.6404473185539246, 0.6150000095367432] and parameters: {'epochs': 119, 'learning_rate': 0.1164781980488819, 'units': 5}.\n",
      "[I 2025-06-12 21:14:07,497] Trial 2 finished with values: [0.6079900860786438, 0.6850000023841858] and parameters: {'epochs': 135, 'learning_rate': 0.2941274212297077, 'units': 8}.\n",
      "[I 2025-06-12 21:14:09,851] Trial 3 finished with values: [0.6269921660423279, 0.6899999976158142] and parameters: {'epochs': 166, 'learning_rate': 0.2535758016129473, 'units': 9}.\n",
      "[I 2025-06-12 21:14:12,148] Trial 4 finished with values: [0.575019359588623, 0.6899999976158142] and parameters: {'epochs': 154, 'learning_rate': 0.22649071815097996, 'units': 10}.\n",
      "[I 2025-06-12 21:14:14,240] Trial 5 finished with values: [0.5587507486343384, 0.6949999928474426] and parameters: {'epochs': 149, 'learning_rate': 0.20429525387792438, 'units': 5}.\n",
      "[I 2025-06-12 21:14:16,678] Trial 6 finished with values: [0.665249764919281, 0.6899999976158142] and parameters: {'epochs': 177, 'learning_rate': 0.30732234659346697, 'units': 4}.\n"
     ]
    },
    {
     "name": "stdout",
     "output_type": "stream",
     "text": [
      "\n",
      "Best params:\n",
      "    accuracy: 0.695\n",
      "    loss function: 0.5588\n",
      "    number of epochs: 149\n",
      "    learning rate: 0.2043\n",
      "    units: 5\n",
      "\n"
     ]
    }
   ],
   "execution_count": 8
  },
  {
   "metadata": {
    "ExecuteTime": {
     "end_time": "2025-06-12T19:14:29.279751Z",
     "start_time": "2025-06-12T19:14:29.260755Z"
    }
   },
   "cell_type": "code",
   "source": "mlp_tdidf_params",
   "id": "ad157cc2ce513722",
   "outputs": [
    {
     "data": {
      "text/plain": [
       "number                                                            5\n",
       "loss                                                       0.558751\n",
       "accuracy                                                      0.695\n",
       "datetime_start                           2025-06-12 21:14:12.149221\n",
       "datetime_complete                        2025-06-12 21:14:14.239277\n",
       "duration                                     0 days 00:00:02.090056\n",
       "params_epochs                                                   149\n",
       "params_learning_rate                                       0.204295\n",
       "params_units                                                      5\n",
       "system_attrs_NSGAIISampler:generation                             0\n",
       "state                                                      COMPLETE\n",
       "Name: 0, dtype: object"
      ]
     },
     "execution_count": 9,
     "metadata": {},
     "output_type": "execute_result"
    }
   ],
   "execution_count": 9
  },
  {
   "metadata": {
    "ExecuteTime": {
     "end_time": "2025-06-12T19:14:34.416281Z",
     "start_time": "2025-06-12T19:14:32.205909Z"
    }
   },
   "cell_type": "code",
   "source": [
    "mlp_tdidf = mlp.Feedforward_Model(X_train_TF, Y_train_TF, units=mlp_tdidf_params['params_units'])\n",
    "mlp_tdidf.train(LR=mlp_tdidf_params['params_learning_rate'], epochs=mlp_tdidf_params['params_epochs'])\n",
    "mlp_tdidf.plot_loss_accuracy()"
   ],
   "id": "2998ba3999485c8",
   "outputs": [
    {
     "data": {
      "text/plain": [
       "<Figure size 800x400 with 2 Axes>"
      ],
      "image/png": "[encoded data removed]"
     },
     "metadata": {},
     "output_type": "display_data"
    }
   ],
   "execution_count": 10
  },
  {
   "metadata": {
    "ExecuteTime": {
     "end_time": "2025-06-12T19:16:50.941622Z",
     "start_time": "2025-06-12T19:16:43.713169Z"
    }
   },
   "cell_type": "code",
   "source": [
    "\"\"\"\n",
    "2.2) BOW encoding\n",
    "\"\"\"\n",
    "X_train_BOW, X_test_BOW, Y_train_BOW, Y_test_BOW = dataset.get_encodings(tfidf=False)\n",
    "\n",
    "mlp_bow_params = mlp.find_best_mlp(X_train=X_train_BOW,\n",
    "                                      Y_train=Y_train_BOW,\n",
    "                                      X_test=X_test_BOW,\n",
    "                                      Y_test=Y_test_BOW,\n",
    "                                      n_trials = 3)"
   ],
   "id": "a5349ef2ed4bd1a6",
   "outputs": [
    {
     "name": "stderr",
     "output_type": "stream",
     "text": [
      "[I 2025-06-12 21:16:43,726] A new study created in memory with name: mlp_optimization\n",
      "[I 2025-06-12 21:16:45,915] Trial 0 finished with values: [0.8199965953826904, 0.7049999833106995] and parameters: {'epochs': 131, 'learning_rate': 0.18497197198369555, 'units': 7}.\n",
      "[I 2025-06-12 21:16:48,459] Trial 1 finished with values: [0.913618803024292, 0.7049999833106995] and parameters: {'epochs': 161, 'learning_rate': 0.19381957094601104, 'units': 6}.\n",
      "[I 2025-06-12 21:16:50,933] Trial 2 finished with values: [0.7890218496322632, 0.699999988079071] and parameters: {'epochs': 154, 'learning_rate': 0.15482465282853236, 'units': 6}.\n"
     ]
    },
    {
     "name": "stdout",
     "output_type": "stream",
     "text": [
      "\n",
      "Best params:\n",
      "    accuracy: 0.705\n",
      "    loss function: 0.9136\n",
      "    number of epochs: 161\n",
      "    learning rate: 0.1938\n",
      "    units: 6\n",
      "\n"
     ]
    }
   ],
   "execution_count": 11
  },
  {
   "metadata": {
    "ExecuteTime": {
     "end_time": "2025-06-12T19:17:17.618272Z",
     "start_time": "2025-06-12T19:17:15.199665Z"
    }
   },
   "cell_type": "code",
   "source": [
    "mlp_bow = mlp.Feedforward_Model(X_train_BOW, Y_train_BOW, units=mlp_tdidf_params['params_units'])\n",
    "mlp_bow.train(LR=mlp_tdidf_params['params_learning_rate'], epochs=mlp_tdidf_params['params_epochs'])\n",
    "mlp_bow.plot_loss_accuracy()"
   ],
   "id": "76fe0d6da9dadc66",
   "outputs": [
    {
     "data": {
      "text/plain": [
       "<Figure size 800x400 with 2 Axes>"
      ],
      "image/png": "[encoded data removed]"
     },
     "metadata": {},
     "output_type": "display_data"
    }
   ],
   "execution_count": 13
  }
 ],
 "metadata": {
  "kernelspec": {
   "display_name": "Python 3",
   "language": "python",
   "name": "python3"
  },
  "language_info": {
   "codemirror_mode": {
    "name": "ipython",
    "version": 2
   },
   "file_extension": ".py",
   "mimetype": "text/x-python",
   "name": "python",
   "nbconvert_exporter": "python",
   "pygments_lexer": "ipython2",
   "version": "2.7.6"
  }
 },
 "nbformat": 4,
 "nbformat_minor": 5
}
