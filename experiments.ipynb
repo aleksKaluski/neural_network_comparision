{
 "cells": [
  {
   "cell_type": "code",
   "id": "initial_id",
   "metadata": {
    "collapsed": true,
    "ExecuteTime": {
     "end_time": "2025-06-13T15:15:20.306231Z",
     "start_time": "2025-06-13T15:15:20.295857Z"
    }
   },
   "source": [
    "import source.prepare_data as prd\n",
    "import source.dataset as dat\n",
    "import source.multi_layer_perceptron as mlp\n",
    "import source.table as tb\n",
    "import source.comparision as comp"
   ],
   "outputs": [],
   "execution_count": 21
  },
  {
   "metadata": {
    "ExecuteTime": {
     "end_time": "2025-06-13T15:15:21.982991Z",
     "start_time": "2025-06-13T15:15:21.974738Z"
    }
   },
   "cell_type": "code",
   "source": [
    "import pandas as pd\n",
    "import spacy\n",
    "from importlib import reload"
   ],
   "id": "ca71a5bfb335e1dd",
   "outputs": [],
   "execution_count": 22
  },
  {
   "metadata": {
    "ExecuteTime": {
     "end_time": "2025-06-13T15:50:14.990321Z",
     "start_time": "2025-06-13T15:50:14.955584Z"
    }
   },
   "cell_type": "code",
   "source": [
    "reload(prd)\n",
    "reload(dat)\n",
    "reload(mlp)\n",
    "reload(tb)\n",
    "reload(comp)"
   ],
   "id": "c33b1c36416cdd72",
   "outputs": [
    {
     "data": {
      "text/plain": [
       "<module 'source.comparision' from 'C:\\\\DL2\\\\source\\\\comparision.py'>"
      ]
     },
     "execution_count": 62,
     "metadata": {},
     "output_type": "execute_result"
    }
   ],
   "execution_count": 62
  },
  {
   "metadata": {
    "ExecuteTime": {
     "end_time": "2025-06-13T14:57:11.124213Z",
     "start_time": "2025-06-13T14:57:01.998975Z"
    }
   },
   "cell_type": "code",
   "source": [
    "\"\"\"\n",
    "1) Preprocessing\n",
    "\"\"\"\n",
    "# load models and dataset\n",
    "df = pd.read_csv(\"hf://datasets/gxb912/large-twitter-tweets-sentiment/train.csv\", nrows=100)\n",
    "nlp = spacy.load(\"en_core_web_sm\")"
   ],
   "id": "ff9071c6d688266f",
   "outputs": [],
   "execution_count": 12
  },
  {
   "metadata": {
    "ExecuteTime": {
     "end_time": "2025-06-13T15:24:54.099525Z",
     "start_time": "2025-06-13T15:24:52.901058Z"
    }
   },
   "cell_type": "code",
   "source": [
    "# prepare dataset\n",
    "df = prd.prepare_df(df, nlp)\n",
    "\n",
    "# create dataset out of cleaned columns\n",
    "dataset = dat.Text_Dataset(df, col_text=\"clean_text_str\", col_label=\"sentiment\", args={\"max_features\":5000})\n",
    "dataset.split_dataset()\n"
   ],
   "id": "1d7e7f4ea60b4906",
   "outputs": [],
   "execution_count": 29
  },
  {
   "metadata": {
    "ExecuteTime": {
     "end_time": "2025-06-13T15:25:30.946461Z",
     "start_time": "2025-06-13T15:24:56.275344Z"
    }
   },
   "cell_type": "code",
   "source": [
    "X_train_TF, X_test_TF, Y_train_TF, Y_test_TF = dataset.get_encodings(tfidf=True)\n",
    "\n",
    "mlp_tdidf_params = mlp.find_best_mlp(X_train=X_train_TF,\n",
    "                                     Y_train=Y_train_TF,\n",
    "                                     X_test=X_test_TF,\n",
    "                                     Y_test=Y_test_TF,\n",
    "                                     n_trials=3)"
   ],
   "id": "3fcc303b3976a8d3",
   "outputs": [
    {
     "name": "stderr",
     "output_type": "stream",
     "text": [
      "[I 2025-06-13 17:24:56,294] A new study created in memory with name: mlp_optimization\n",
      "[I 2025-06-13 17:25:08,492] Trial 0 finished with values: [0.6984240412712097, 0.5] and parameters: {'epochs': 139, 'learning_rate': 0.24673574839355933, 'units': 10}.\n",
      "[I 2025-06-13 17:25:20,765] Trial 1 finished with values: [0.7029567956924438, 0.5] and parameters: {'epochs': 119, 'learning_rate': 0.3677509130523532, 'units': 5}.\n",
      "[I 2025-06-13 17:25:30,884] Trial 2 finished with values: [0.6917957067489624, 0.550000011920929] and parameters: {'epochs': 100, 'learning_rate': 0.2161590814912232, 'units': 2}.\n"
     ]
    },
    {
     "name": "stdout",
     "output_type": "stream",
     "text": [
      "{'loss': 0.6917957067489624, 'accuracy': 0.550000011920929, 'params_epochs': 100.0, 'params_learning_rate': 0.2161590814912232, 'params_units': 2.0, 'time': np.float64(11.528611)}\n"
     ]
    }
   ],
   "execution_count": 30
  },
  {
   "metadata": {
    "ExecuteTime": {
     "end_time": "2025-06-13T15:31:33.072733Z",
     "start_time": "2025-06-13T15:29:32.933785Z"
    }
   },
   "cell_type": "code",
   "source": [
    "vocab_size = comp.test_vocab_size(df)\n",
    "split_size = comp.test_split_ratio(dataset)"
   ],
   "id": "c09fe71614416c26",
   "outputs": [
    {
     "name": "stdout",
     "output_type": "stream",
     "text": [
      "Intializing test of vocab size with: lr = 0.1, epochs = 100, units = 5.\n",
      "Embeding is BOW.........\n",
      "The result is: [(1000, 0.55), (2000, 0.5), (3000, 0.55), (4000, 0.4), (5000, 0.55), (6000, 0.55), (7000, 0.6), (8000, 0.65)]\n",
      "Intializing test split with: lr = 0.1, epochs = 100, units = 5.\n",
      "Embeding is BOW......\n",
      "The result is: [(0.1, 0.7), (0.2, 0.6), (0.3, 0.4667), (0.4, 0.55), (0.5, 0.56)]\n"
     ]
    }
   ],
   "execution_count": 31
  },
  {
   "metadata": {
    "ExecuteTime": {
     "end_time": "2025-06-13T15:50:20.425542Z",
     "start_time": "2025-06-13T15:50:20.411455Z"
    }
   },
   "cell_type": "code",
   "source": [
    "table = tb.Table()\n",
    "table.add_record(name=\"mlp_bow\",\n",
    "                 epoch=mlp_tdidf_params[\"params_epochs\"],\n",
    "                 lr=mlp_tdidf_params[\"params_learning_rate\"],\n",
    "                 units=mlp_tdidf_params[\"params_units\"],\n",
    "                 avg_time=mlp_tdidf_params[\"time\"],\n",
    "                 split_accuracy=split_size,\n",
    "                 vocab_accuracy=vocab_size)"
   ],
   "id": "360340de9d60842e",
   "outputs": [
    {
     "name": "stdout",
     "output_type": "stream",
     "text": [
      "Adding a new record with params: name: mlp_bow, epoch: 100.0, lr: 0.2161590814912232, units: 2.0, average time: 11.528611\n"
     ]
    }
   ],
   "execution_count": 63
  },
  {
   "metadata": {
    "ExecuteTime": {
     "end_time": "2025-06-13T15:50:23.899632Z",
     "start_time": "2025-06-13T15:50:23.883767Z"
    }
   },
   "cell_type": "code",
   "source": [
    "table.add_record(name=\"mlp_2\",\n",
    "                 epoch=20,\n",
    "                 lr=0.5,\n",
    "                 units=4,\n",
    "                 avg_time=20.5,\n",
    "                 split_accuracy=[(0.1, 0.5), (0.2, 0.3), (0.3, 0.4), (0.4, 0.55), (0.5, 0.7)], \n",
    "                 vocab_accuracy=[(1000, 0.65), (2000, 0.56), (3000, 0.1), (4000, 0.4), (5000, 0.55), (6000, 0.55), (7000, 0.6), (8000, 0.9)])"
   ],
   "id": "db1adf973c1d2525",
   "outputs": [
    {
     "name": "stdout",
     "output_type": "stream",
     "text": [
      "Adding a new record with params: name: mlp_2, epoch: 20, lr: 0.5, units: 4, average time: 20.5\n"
     ]
    }
   ],
   "execution_count": 65
  },
  {
   "metadata": {
    "ExecuteTime": {
     "end_time": "2025-06-13T15:50:28.246985Z",
     "start_time": "2025-06-13T15:50:28.225392Z"
    }
   },
   "cell_type": "code",
   "source": "table.show(tabulate_view=True)",
   "id": "4fe298e9f64260e4",
   "outputs": [
    {
     "name": "stdout",
     "output_type": "stream",
     "text": [
      "\n",
      "Table info:\n",
      "<class 'pandas.core.frame.DataFrame'>\n",
      "Index: 3 entries, 0 to 2\n",
      "Data columns (total 7 columns):\n",
      " #   Column          Non-Null Count  Dtype  \n",
      "---  ------          --------------  -----  \n",
      " 0   name            3 non-null      object \n",
      " 1   epochs          3 non-null      float64\n",
      " 2   lr              3 non-null      float64\n",
      " 3   units           3 non-null      float64\n",
      " 4   avg_time        3 non-null      float64\n",
      " 5   split_accuracy  3 non-null      object \n",
      " 6   vocab_accuracy  3 non-null      object \n",
      "dtypes: float64(4), object(3)\n",
      "memory usage: 192.0+ bytes\n",
      "None\n",
      "\n",
      "Records preview:\n",
      "| name    |   epochs |       lr |   units |   avg_time | split_accuracy                                                    | vocab_accuracy                                                                                                |\n",
      "|---------|----------|----------|---------|------------|-------------------------------------------------------------------|---------------------------------------------------------------------------------------------------------------|\n",
      "| mlp_bow |      100 | 0.216159 |       2 |    11.5286 | [(0.1, 0.7), (0.2, 0.6), (0.3, 0.4667), (0.4, 0.55), (0.5, 0.56)] | [(1000, 0.55), (2000, 0.5), (3000, 0.55), (4000, 0.4), (5000, 0.55), (6000, 0.55), (7000, 0.6), (8000, 0.65)] |\n",
      "| mlp_2   |       20 | 0.5      |       4 |    20.5    | [(0.1, 0.5), (0.2, 0.3), (0.3, 0.4), (0.4, 0.55), (0.5, 0.7)]     | [(1000, 0.65), (2000, 0.56), (3000, 0.1), (4000, 0.4), (5000, 0.55), (6000, 0.55), (7000, 0.6), (8000, 0.9)]  |\n",
      "| mlp_2   |       20 | 0.5      |       4 |    20.5    | [(0.1, 0.5), (0.2, 0.3), (0.3, 0.4), (0.4, 0.55), (0.5, 0.7)]     | [(1000, 0.65), (2000, 0.56), (3000, 0.1), (4000, 0.4), (5000, 0.55), (6000, 0.55), (7000, 0.6), (8000, 0.9)]  |\n"
     ]
    }
   ],
   "execution_count": 66
  },
  {
   "metadata": {},
   "cell_type": "code",
   "outputs": [],
   "execution_count": null,
   "source": "",
   "id": "a3363fb7598f98bd"
  }
 ],
 "metadata": {
  "kernelspec": {
   "display_name": "Python 3",
   "language": "python",
   "name": "python3"
  },
  "language_info": {
   "codemirror_mode": {
    "name": "ipython",
    "version": 2
   },
   "file_extension": ".py",
   "mimetype": "text/x-python",
   "name": "python",
   "nbconvert_exporter": "python",
   "pygments_lexer": "ipython2",
   "version": "2.7.6"
  }
 },
 "nbformat": 4,
 "nbformat_minor": 5
}
