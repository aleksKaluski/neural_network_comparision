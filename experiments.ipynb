{
 "cells": [
  {
   "cell_type": "code",
   "id": "initial_id",
   "metadata": {
    "collapsed": true,
    "ExecuteTime": {
     "end_time": "2025-06-13T21:09:21.642621Z",
     "start_time": "2025-06-13T21:09:14.607756Z"
    }
   },
   "source": [
    "import source.prepare_data as prd\n",
    "import source.dataset as dat\n",
    "import source.multi_layer_perceptron as mlp\n",
    "import source.table as tb\n",
    "import source.comparision as comp"
   ],
   "outputs": [
    {
     "name": "stdout",
     "output_type": "stream",
     "text": [
      "WARNING:tensorflow:From C:\\Python_files\\DL_final2\\.venv\\lib\\site-packages\\keras\\src\\losses.py:2976: The name tf.losses.sparse_softmax_cross_entropy is deprecated. Please use tf.compat.v1.losses.sparse_softmax_cross_entropy instead.\n",
      "\n"
     ]
    },
    {
     "name": "stderr",
     "output_type": "stream",
     "text": [
      "C:\\Python_files\\DL_final2\\.venv\\lib\\site-packages\\tqdm\\auto.py:21: TqdmWarning: IProgress not found. Please update jupyter and ipywidgets. See https://ipywidgets.readthedocs.io/en/stable/user_install.html\n",
      "  from .autonotebook import tqdm as notebook_tqdm\n"
     ]
    }
   ],
   "execution_count": 1
  },
  {
   "metadata": {
    "ExecuteTime": {
     "end_time": "2025-06-13T21:09:22.615923Z",
     "start_time": "2025-06-13T21:09:21.656134Z"
    }
   },
   "cell_type": "code",
   "source": [
    "import pandas as pd\n",
    "import spacy\n",
    "from importlib import reload"
   ],
   "id": "ca71a5bfb335e1dd",
   "outputs": [],
   "execution_count": 2
  },
  {
   "metadata": {
    "ExecuteTime": {
     "end_time": "2025-06-13T21:15:29.268924Z",
     "start_time": "2025-06-13T21:15:29.252911Z"
    }
   },
   "cell_type": "code",
   "source": [
    "reload(prd)\n",
    "reload(dat)\n",
    "reload(mlp)\n",
    "reload(tb)\n",
    "reload(comp)"
   ],
   "id": "c33b1c36416cdd72",
   "outputs": [
    {
     "data": {
      "text/plain": [
       "<module 'source.comparision' from 'C:\\\\Python_files\\\\DL_final2\\\\source\\\\comparision.py'>"
      ]
     },
     "execution_count": 12,
     "metadata": {},
     "output_type": "execute_result"
    }
   ],
   "execution_count": 12
  },
  {
   "metadata": {
    "ExecuteTime": {
     "end_time": "2025-06-13T21:10:10.104643Z",
     "start_time": "2025-06-13T21:10:07.868575Z"
    }
   },
   "cell_type": "code",
   "source": [
    "\"\"\"\n",
    "1) Preprocessing\n",
    "\"\"\"\n",
    "# load models and dataset\n",
    "df = pd.read_csv(\"hf://datasets/gxb912/large-twitter-tweets-sentiment/train.csv\", nrows=100)\n",
    "nlp = spacy.load(\"en_core_web_sm\")"
   ],
   "id": "ff9071c6d688266f",
   "outputs": [],
   "execution_count": 4
  },
  {
   "metadata": {
    "ExecuteTime": {
     "end_time": "2025-06-13T21:10:21.828744Z",
     "start_time": "2025-06-13T21:10:21.294409Z"
    }
   },
   "cell_type": "code",
   "source": [
    "# prepare dataset\n",
    "df = prd.prepare_df(df, nlp)\n",
    "\n",
    "# create dataset out of cleaned columns\n",
    "dataset = dat.Text_Dataset(df, col_text=\"clean_text_str\", col_label=\"sentiment\", args={\"max_features\":5000})\n",
    "dataset.split_dataset()\n"
   ],
   "id": "1d7e7f4ea60b4906",
   "outputs": [],
   "execution_count": 5
  },
  {
   "metadata": {
    "ExecuteTime": {
     "end_time": "2025-06-13T21:10:34.110233Z",
     "start_time": "2025-06-13T21:10:31.531082Z"
    }
   },
   "cell_type": "code",
   "source": [
    "X_train_TF, X_test_TF, Y_train_TF, Y_test_TF = dataset.get_encodings(tfidf=True)\n",
    "\n",
    "mlp_tdidf_params = mlp.find_best_mlp(X_train=X_train_TF,\n",
    "                                     Y_train=Y_train_TF,\n",
    "                                     X_test=X_test_TF,\n",
    "                                     Y_test=Y_test_TF,\n",
    "                                     n_trials=3)"
   ],
   "id": "3fcc303b3976a8d3",
   "outputs": [
    {
     "name": "stderr",
     "output_type": "stream",
     "text": [
      "[I 2025-06-13 23:10:31,535] A new study created in memory with name: mlp_optimization\n"
     ]
    },
    {
     "name": "stdout",
     "output_type": "stream",
     "text": [
      "WARNING:tensorflow:From C:\\Python_files\\DL_final2\\.venv\\lib\\site-packages\\keras\\src\\backend.py:873: The name tf.get_default_graph is deprecated. Please use tf.compat.v1.get_default_graph instead.\n",
      "\n",
      "WARNING:tensorflow:From C:\\Python_files\\DL_final2\\.venv\\lib\\site-packages\\keras\\src\\utils\\tf_utils.py:492: The name tf.ragged.RaggedTensorValue is deprecated. Please use tf.compat.v1.ragged.RaggedTensorValue instead.\n",
      "\n",
      "WARNING:tensorflow:From C:\\Python_files\\DL_final2\\.venv\\lib\\site-packages\\keras\\src\\engine\\base_layer_utils.py:384: The name tf.executing_eagerly_outside_functions is deprecated. Please use tf.compat.v1.executing_eagerly_outside_functions instead.\n",
      "\n"
     ]
    },
    {
     "name": "stderr",
     "output_type": "stream",
     "text": [
      "[I 2025-06-13 23:10:32,702] Trial 0 finished with values: [0.6807798147201538, 0.550000011920929] and parameters: {'epochs': 121, 'learning_rate': 0.40445108107816413, 'units': 10}.\n",
      "[I 2025-06-13 23:10:33,368] Trial 1 finished with values: [0.7199617624282837, 0.550000011920929] and parameters: {'epochs': 172, 'learning_rate': 0.43066675069695187, 'units': 10}.\n",
      "[I 2025-06-13 23:10:34,088] Trial 2 finished with values: [0.7255399823188782, 0.6499999761581421] and parameters: {'epochs': 200, 'learning_rate': 0.3671533520152799, 'units': 6}.\n"
     ]
    },
    {
     "name": "stdout",
     "output_type": "stream",
     "text": [
      "{'loss': 0.7255399823188782, 'accuracy': 0.6499999761581421, 'params_epochs': 200.0, 'params_learning_rate': 0.3671533520152799, 'params_units': 6.0, 'time': 0.8505819999999998}\n"
     ]
    }
   ],
   "execution_count": 6
  },
  {
   "metadata": {
    "ExecuteTime": {
     "end_time": "2025-06-13T21:10:43.377753Z",
     "start_time": "2025-06-13T21:10:36.717635Z"
    }
   },
   "cell_type": "code",
   "source": [
    "vocab_size = comp.test_vocab_size(df)\n",
    "split_size = comp.test_split_ratio(dataset)"
   ],
   "id": "c09fe71614416c26",
   "outputs": [
    {
     "name": "stdout",
     "output_type": "stream",
     "text": [
      "Intializing test of vocab size with: lr = 0.1, epochs = 100, units = 5.\n",
      "Embeding is BOW...WARNING:tensorflow:5 out of the last 5 calls to <function Model.make_test_function.<locals>.test_function at 0x0000015179041480> triggered tf.function retracing. Tracing is expensive and the excessive number of tracings could be due to (1) creating @tf.function repeatedly in a loop, (2) passing tensors with different shapes, (3) passing Python objects instead of tensors. For (1), please define your @tf.function outside of the loop. For (2), @tf.function has reduce_retracing=True option that can avoid unnecessary retracing. For (3), please refer to https://www.tensorflow.org/guide/function#controlling_retracing and https://www.tensorflow.org/api_docs/python/tf/function for  more details.\n",
      ".WARNING:tensorflow:6 out of the last 6 calls to <function Model.make_test_function.<locals>.test_function at 0x00000151790415A0> triggered tf.function retracing. Tracing is expensive and the excessive number of tracings could be due to (1) creating @tf.function repeatedly in a loop, (2) passing tensors with different shapes, (3) passing Python objects instead of tensors. For (1), please define your @tf.function outside of the loop. For (2), @tf.function has reduce_retracing=True option that can avoid unnecessary retracing. For (3), please refer to https://www.tensorflow.org/guide/function#controlling_retracing and https://www.tensorflow.org/api_docs/python/tf/function for  more details.\n",
      ".....\n",
      "The result is: [(1000, 0.5), (2000, 0.6), (3000, 0.65), (4000, 0.55), (5000, 0.65), (6000, 0.6), (7000, 0.55), (8000, 0.6)]\n",
      "Intializing test split with: lr = 0.1, epochs = 100, units = 5.\n",
      "Embeding is BOW......\n",
      "The result is: [(0.1, 0.7), (0.2, 0.6), (0.3, 0.5667), (0.4, 0.575), (0.5, 0.52)]\n"
     ]
    }
   ],
   "execution_count": 7
  },
  {
   "metadata": {
    "ExecuteTime": {
     "end_time": "2025-06-13T21:18:23.743244Z",
     "start_time": "2025-06-13T21:18:23.724787Z"
    }
   },
   "cell_type": "code",
   "source": [
    "table = tb.Table()\n",
    "table.add_record(name=\"mlp_bow\",\n",
    "                 epoch=mlp_tdidf_params[\"params_epochs\"],\n",
    "                 lr=mlp_tdidf_params[\"params_learning_rate\"],\n",
    "                 units=mlp_tdidf_params[\"params_units\"],\n",
    "                 avg_time=mlp_tdidf_params[\"time\"],\n",
    "                 split_accuracy=split_size,\n",
    "                 vocab_accuracy=vocab_size)"
   ],
   "id": "360340de9d60842e",
   "outputs": [
    {
     "name": "stdout",
     "output_type": "stream",
     "text": [
      "Adding a new record with params: name: mlp_bow, epoch: 200.0, lr: 0.3671533520152799, units: 6.0, average time: 0.8505819999999998\n"
     ]
    }
   ],
   "execution_count": 30
  },
  {
   "metadata": {
    "ExecuteTime": {
     "end_time": "2025-06-13T21:18:25.047728Z",
     "start_time": "2025-06-13T21:18:25.034998Z"
    }
   },
   "cell_type": "code",
   "source": [
    "table.add_record(name=\"mlp_5\",\n",
    "                 epoch=20,\n",
    "                 lr=0.5,\n",
    "                 units=4,\n",
    "                 avg_time=20.5,\n",
    "                 split_accuracy=[(0.1, 0.7), (0.2, 0.3), (0.3, 0.6), (0.4, 0.55), (0.5, 0.7)],\n",
    "                 vocab_accuracy=[(1000, 0.65), (2000, 0.56), (3000, 0.1), (4000, 0.4), (5000, 0.55), (6000, 0.55), (7000, 0.6), (8000, 0.9)])"
   ],
   "id": "db1adf973c1d2525",
   "outputs": [
    {
     "name": "stdout",
     "output_type": "stream",
     "text": [
      "Adding a new record with params: name: mlp_5, epoch: 20, lr: 0.5, units: 4, average time: 20.5\n"
     ]
    }
   ],
   "execution_count": 31
  },
  {
   "metadata": {
    "ExecuteTime": {
     "end_time": "2025-06-13T21:10:56.825044Z",
     "start_time": "2025-06-13T21:10:56.769382Z"
    }
   },
   "cell_type": "code",
   "source": "table.show(tabulate_view=True)",
   "id": "4fe298e9f64260e4",
   "outputs": [
    {
     "name": "stdout",
     "output_type": "stream",
     "text": [
      "\n",
      "Table info:\n",
      "<class 'pandas.core.frame.DataFrame'>\n",
      "Index: 2 entries, 0 to 1\n",
      "Data columns (total 7 columns):\n",
      " #   Column          Non-Null Count  Dtype  \n",
      "---  ------          --------------  -----  \n",
      " 0   name            2 non-null      object \n",
      " 1   epochs          2 non-null      float64\n",
      " 2   lr              2 non-null      float64\n",
      " 3   units           2 non-null      float64\n",
      " 4   avg_time        2 non-null      float64\n",
      " 5   split_accuracy  2 non-null      object \n",
      " 6   vocab_accuracy  2 non-null      object \n",
      "dtypes: float64(4), object(3)\n",
      "memory usage: 128.0+ bytes\n",
      "None\n",
      "\n",
      "Records preview:\n",
      "| name    |   epochs |       lr |   units |   avg_time | split_accuracy                                                     | vocab_accuracy                                                                                               |\n",
      "|---------|----------|----------|---------|------------|--------------------------------------------------------------------|--------------------------------------------------------------------------------------------------------------|\n",
      "| mlp_bow |      200 | 0.367153 |       6 |   0.850582 | [(0.1, 0.7), (0.2, 0.6), (0.3, 0.5667), (0.4, 0.575), (0.5, 0.52)] | [(1000, 0.5), (2000, 0.6), (3000, 0.65), (4000, 0.55), (5000, 0.65), (6000, 0.6), (7000, 0.55), (8000, 0.6)] |\n",
      "| mlp_2   |       20 | 0.5      |       4 |  20.5      | [(0.1, 0.5), (0.2, 0.3), (0.3, 0.4), (0.4, 0.55), (0.5, 0.7)]      | [(1000, 0.65), (2000, 0.56), (3000, 0.1), (4000, 0.4), (5000, 0.55), (6000, 0.55), (7000, 0.6), (8000, 0.9)] |\n"
     ]
    }
   ],
   "execution_count": 10
  },
  {
   "metadata": {
    "ExecuteTime": {
     "end_time": "2025-06-13T21:18:22.030735Z",
     "start_time": "2025-06-13T21:18:22.010205Z"
    }
   },
   "cell_type": "code",
   "source": [
    "reload(prd)\n",
    "reload(dat)\n",
    "reload(mlp)\n",
    "reload(tb)\n",
    "reload(comp)"
   ],
   "id": "38553e88d8187c3e",
   "outputs": [
    {
     "data": {
      "text/plain": [
       "<module 'source.comparision' from 'C:\\\\Python_files\\\\DL_final2\\\\source\\\\comparision.py'>"
      ]
     },
     "execution_count": 29,
     "metadata": {},
     "output_type": "execute_result"
    }
   ],
   "execution_count": 29
  },
  {
   "metadata": {
    "ExecuteTime": {
     "end_time": "2025-06-13T21:18:26.923026Z",
     "start_time": "2025-06-13T21:18:26.814700Z"
    }
   },
   "cell_type": "code",
   "source": "table.plot_split_accuracy()",
   "id": "a3363fb7598f98bd",
   "outputs": [
    {
     "data": {
      "text/plain": [
       "<Figure size 2000x500 with 1 Axes>"
      ],
      "image/png": "[encoded data removed]"
     },
     "metadata": {},
     "output_type": "display_data"
    }
   ],
   "execution_count": 32
  }
 ],
 "metadata": {
  "kernelspec": {
   "display_name": "Python 3",
   "language": "python",
   "name": "python3"
  },
  "language_info": {
   "codemirror_mode": {
    "name": "ipython",
    "version": 2
   },
   "file_extension": ".py",
   "mimetype": "text/x-python",
   "name": "python",
   "nbconvert_exporter": "python",
   "pygments_lexer": "ipython2",
   "version": "2.7.6"
  }
 },
 "nbformat": 4,
 "nbformat_minor": 5
}
