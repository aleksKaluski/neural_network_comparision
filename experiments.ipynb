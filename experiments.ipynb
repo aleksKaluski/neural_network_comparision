{
 "cells": [
  {
   "cell_type": "code",
   "id": "initial_id",
   "metadata": {
    "collapsed": true,
    "ExecuteTime": {
     "end_time": "2025-06-13T14:48:46.276365Z",
     "start_time": "2025-06-13T14:48:46.260270Z"
    }
   },
   "source": [
    "import source.prepare_data as prd\n",
    "import source.dataset as dat\n",
    "import source.multi_layer_perceptron as mlp\n",
    "import source.table as tb\n",
    "import source.comparision as comp"
   ],
   "outputs": [],
   "execution_count": 4
  },
  {
   "metadata": {
    "ExecuteTime": {
     "end_time": "2025-06-13T14:48:35.435651Z",
     "start_time": "2025-06-13T14:48:33.158598Z"
    }
   },
   "cell_type": "code",
   "source": [
    "import pandas as pd\n",
    "import numpy as np\n",
    "import spacy\n",
    "import os\n",
    "from pathlib import Path\n",
    "from importlib import reload"
   ],
   "id": "ca71a5bfb335e1dd",
   "outputs": [],
   "execution_count": 2
  },
  {
   "metadata": {
    "ExecuteTime": {
     "end_time": "2025-06-13T15:02:48.122144Z",
     "start_time": "2025-06-13T15:02:48.086822Z"
    }
   },
   "cell_type": "code",
   "source": [
    "reload(prd)\n",
    "reload(dat)\n",
    "reload(mlp)\n",
    "reload(tb)\n",
    "reload(comp)"
   ],
   "id": "c33b1c36416cdd72",
   "outputs": [
    {
     "data": {
      "text/plain": [
       "<module 'source.comparision' from 'C:\\\\DL2\\\\source\\\\comparision.py'>"
      ]
     },
     "execution_count": 19,
     "metadata": {},
     "output_type": "execute_result"
    }
   ],
   "execution_count": 19
  },
  {
   "metadata": {
    "ExecuteTime": {
     "end_time": "2025-06-13T14:57:11.124213Z",
     "start_time": "2025-06-13T14:57:01.998975Z"
    }
   },
   "cell_type": "code",
   "source": [
    "\"\"\"\n",
    "1) Preprocessing\n",
    "\"\"\"\n",
    "# load models and dataset\n",
    "df = pd.read_csv(\"hf://datasets/gxb912/large-twitter-tweets-sentiment/train.csv\", nrows=100)\n",
    "nlp = spacy.load(\"en_core_web_sm\")"
   ],
   "id": "ff9071c6d688266f",
   "outputs": [],
   "execution_count": 12
  },
  {
   "metadata": {
    "ExecuteTime": {
     "end_time": "2025-06-13T14:57:28.966334Z",
     "start_time": "2025-06-13T14:57:26.457857Z"
    }
   },
   "cell_type": "code",
   "source": [
    "# prepare dataset\n",
    "df = prd.prepare_df(df, nlp)\n",
    "\n",
    "# create dataset out of cleaned columns\n",
    "dataset = dat.Text_Dataset(df, col_text=\"clean_text_str\", col_label=\"sentiment\", args={\"max_features\":5000})"
   ],
   "id": "1d7e7f4ea60b4906",
   "outputs": [],
   "execution_count": 13
  },
  {
   "metadata": {
    "ExecuteTime": {
     "end_time": "2025-06-13T15:03:47.748359Z",
     "start_time": "2025-06-13T15:02:52.485445Z"
    }
   },
   "cell_type": "code",
   "source": "comp.test_split_ratio(dataset)",
   "id": "862a9f1ae255b0a4",
   "outputs": [
    {
     "name": "stdout",
     "output_type": "stream",
     "text": [
      "Intializing test split with: lr = 0.1, epochs = 100, units = 5.\n",
      "Embeding is BOW.\n",
      ".....The result is: [(0.1, 0.5), (0.2, 0.55), (0.3, 0.6), (0.4, 0.55), (0.5, 0.5)]\n"
     ]
    },
    {
     "data": {
      "text/plain": [
       "[(0.1, 0.5), (0.2, 0.55), (0.3, 0.6), (0.4, 0.55), (0.5, 0.5)]"
      ]
     },
     "execution_count": 20,
     "metadata": {},
     "output_type": "execute_result"
    }
   ],
   "execution_count": 20
  },
  {
   "metadata": {
    "ExecuteTime": {
     "end_time": "2025-06-13T14:50:30.552692Z",
     "start_time": "2025-06-13T14:50:30.452660Z"
    }
   },
   "cell_type": "code",
   "source": [
    "X_train_TF, X_test_TF, Y_train_TF, Y_test_TF = dataset.get_encodings(tfidf=True)\n",
    "\n",
    "mlp_tdidf_params = mlp.find_best_mlp(X_train=X_train_TF,\n",
    "                                      Y_train=Y_train_TF,\n",
    "                                      X_test=X_test_TF,\n",
    "                                      Y_test=Y_test_TF,\n",
    "                                      n_trials = 2)"
   ],
   "id": "37ba580f1912b23e",
   "outputs": [
    {
     "ename": "NameError",
     "evalue": "name 'dataset' is not defined",
     "output_type": "error",
     "traceback": [
      "\u001B[1;31m---------------------------------------------------------------------------\u001B[0m",
      "\u001B[1;31mNameError\u001B[0m                                 Traceback (most recent call last)",
      "Cell \u001B[1;32mIn[9], line 1\u001B[0m\n\u001B[1;32m----> 1\u001B[0m X_train_TF, X_test_TF, Y_train_TF, Y_test_TF \u001B[38;5;241m=\u001B[39m dataset\u001B[38;5;241m.\u001B[39mget_encodings(tfidf\u001B[38;5;241m=\u001B[39m\u001B[38;5;28;01mTrue\u001B[39;00m)\n\u001B[0;32m      3\u001B[0m mlp_tdidf_params \u001B[38;5;241m=\u001B[39m mlp\u001B[38;5;241m.\u001B[39mfind_best_mlp(X_train\u001B[38;5;241m=\u001B[39mX_train_TF,\n\u001B[0;32m      4\u001B[0m                                       Y_train\u001B[38;5;241m=\u001B[39mY_train_TF,\n\u001B[0;32m      5\u001B[0m                                       X_test\u001B[38;5;241m=\u001B[39mX_test_TF,\n\u001B[0;32m      6\u001B[0m                                       Y_test\u001B[38;5;241m=\u001B[39mY_test_TF,\n\u001B[0;32m      7\u001B[0m                                       n_trials \u001B[38;5;241m=\u001B[39m \u001B[38;5;241m2\u001B[39m)\n",
      "\u001B[1;31mNameError\u001B[0m: name 'dataset' is not defined"
     ]
    }
   ],
   "execution_count": 9
  },
  {
   "metadata": {
    "ExecuteTime": {
     "end_time": "2025-06-12T20:50:54.739115Z",
     "start_time": "2025-06-12T20:50:54.726115Z"
    }
   },
   "cell_type": "code",
   "source": "mlp_tdidf_params",
   "id": "7b8767222e4db9e9",
   "outputs": [
    {
     "data": {
      "text/plain": [
       "{'loss': 0.6677049994468689,\n",
       " 'accuracy': 0.699999988079071,\n",
       " 'params_epochs': 187.0,\n",
       " 'params_learning_rate': 0.3794757103044708,\n",
       " 'params_units': 2.0,\n",
       " 'time': 2.4826305}"
      ]
     },
     "execution_count": 64,
     "metadata": {},
     "output_type": "execute_result"
    }
   ],
   "execution_count": 64
  }
 ],
 "metadata": {
  "kernelspec": {
   "display_name": "Python 3",
   "language": "python",
   "name": "python3"
  },
  "language_info": {
   "codemirror_mode": {
    "name": "ipython",
    "version": 2
   },
   "file_extension": ".py",
   "mimetype": "text/x-python",
   "name": "python",
   "nbconvert_exporter": "python",
   "pygments_lexer": "ipython2",
   "version": "2.7.6"
  }
 },
 "nbformat": 4,
 "nbformat_minor": 5
}
