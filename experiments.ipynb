{
 "cells": [
  {
   "cell_type": "code",
   "id": "initial_id",
   "metadata": {
    "collapsed": true,
    "ExecuteTime": {
     "end_time": "2025-06-12T19:55:29.923015Z",
     "start_time": "2025-06-12T19:55:25.211857Z"
    }
   },
   "source": [
    "import source.prepare_data as prd\n",
    "import source.dataset as dat\n",
    "import source.multi_layer_perceptron as mlp\n",
    "import source.table as tb"
   ],
   "outputs": [
    {
     "name": "stdout",
     "output_type": "stream",
     "text": [
      "WARNING:tensorflow:From C:\\Python_files\\DL_final2\\.venv\\lib\\site-packages\\keras\\src\\losses.py:2976: The name tf.losses.sparse_softmax_cross_entropy is deprecated. Please use tf.compat.v1.losses.sparse_softmax_cross_entropy instead.\n",
      "\n"
     ]
    },
    {
     "name": "stderr",
     "output_type": "stream",
     "text": [
      "C:\\Python_files\\DL_final2\\.venv\\lib\\site-packages\\tqdm\\auto.py:21: TqdmWarning: IProgress not found. Please update jupyter and ipywidgets. See https://ipywidgets.readthedocs.io/en/stable/user_install.html\n",
      "  from .autonotebook import tqdm as notebook_tqdm\n"
     ]
    }
   ],
   "execution_count": 1
  },
  {
   "metadata": {
    "ExecuteTime": {
     "end_time": "2025-06-12T19:55:30.736162Z",
     "start_time": "2025-06-12T19:55:30.098014Z"
    }
   },
   "cell_type": "code",
   "source": [
    "import pandas as pd\n",
    "import numpy as np\n",
    "import spacy\n",
    "import os\n",
    "from pathlib import Path\n",
    "from importlib import reload"
   ],
   "id": "ca71a5bfb335e1dd",
   "outputs": [],
   "execution_count": 2
  },
  {
   "metadata": {
    "ExecuteTime": {
     "end_time": "2025-06-12T20:19:48.227628Z",
     "start_time": "2025-06-12T20:19:48.209627Z"
    }
   },
   "cell_type": "code",
   "source": [
    "t = tb.Table()\n",
    "t.toString()"
   ],
   "id": "55b1f19e05627931",
   "outputs": [
    {
     "name": "stdout",
     "output_type": "stream",
     "text": [
      "Info about the table: \n",
      "\n",
      "<class 'pandas.core.frame.DataFrame'>\n",
      "RangeIndex: 0 entries\n",
      "Data columns (total 7 columns):\n",
      " #   Column          Non-Null Count  Dtype \n",
      "---  ------          --------------  ----- \n",
      " 0   name            0 non-null      object\n",
      " 1   epochs          0 non-null      object\n",
      " 2   lr              0 non-null      object\n",
      " 3   units           0 non-null      object\n",
      " 4   avg_time        0 non-null      object\n",
      " 5   split_accuracy  0 non-null      object\n",
      " 6   vocab_accuracy  0 non-null      object\n",
      "dtypes: object(7)\n",
      "memory usage: 124.0+ bytes\n",
      "None\n",
      "\n",
      "The table's head:\n",
      "Empty DataFrame\n",
      "Columns: [name, epochs, lr, units, avg_time, split_accuracy, vocab_accuracy]\n",
      "Index: []\n"
     ]
    }
   ],
   "execution_count": 19
  },
  {
   "metadata": {
    "ExecuteTime": {
     "end_time": "2025-06-12T20:19:49.759106Z",
     "start_time": "2025-06-12T20:19:49.741956Z"
    }
   },
   "cell_type": "code",
   "source": "t.add_record(\"test\", 1, 0.6, 10, 9.2, ['test'], ['test'])",
   "id": "bccc6799745e1b03",
   "outputs": [],
   "execution_count": 20
  },
  {
   "metadata": {
    "ExecuteTime": {
     "end_time": "2025-06-12T20:20:00.730356Z",
     "start_time": "2025-06-12T20:20:00.709359Z"
    }
   },
   "cell_type": "code",
   "source": "t.toString()",
   "id": "e57c1354655d913",
   "outputs": [
    {
     "name": "stdout",
     "output_type": "stream",
     "text": [
      "Info about the table: \n",
      "\n",
      "<class 'pandas.core.frame.DataFrame'>\n",
      "Index: 1 entries, 0 to 0\n",
      "Data columns (total 7 columns):\n",
      " #   Column          Non-Null Count  Dtype  \n",
      "---  ------          --------------  -----  \n",
      " 0   name            1 non-null      object \n",
      " 1   epochs          1 non-null      int64  \n",
      " 2   lr              1 non-null      float64\n",
      " 3   units           1 non-null      int64  \n",
      " 4   avg_time        1 non-null      float64\n",
      " 5   split_accuracy  1 non-null      object \n",
      " 6   vocab_accuracy  1 non-null      object \n",
      "dtypes: float64(2), int64(2), object(3)\n",
      "memory usage: 64.0+ bytes\n",
      "None\n",
      "\n",
      "The table's head:\n",
      "   name  epochs   lr  units  avg_time split_accuracy vocab_accuracy\n",
      "0  test       1  0.6     10       9.2         [test]         [test]\n"
     ]
    }
   ],
   "execution_count": 22
  },
  {
   "metadata": {
    "ExecuteTime": {
     "end_time": "2025-06-12T20:50:46.618967Z",
     "start_time": "2025-06-12T20:50:46.599969Z"
    }
   },
   "cell_type": "code",
   "source": [
    "reload(prd)\n",
    "reload(dat)\n",
    "reload(mlp)\n",
    "reload(tb)"
   ],
   "id": "2ef33ff4d51b32d3",
   "outputs": [
    {
     "data": {
      "text/plain": [
       "<module 'source.table' from 'C:\\\\Python_files\\\\DL_final2\\\\source\\\\table.py'>"
      ]
     },
     "execution_count": 62,
     "metadata": {},
     "output_type": "execute_result"
    }
   ],
   "execution_count": 62
  },
  {
   "metadata": {
    "ExecuteTime": {
     "end_time": "2025-06-12T20:35:23.518782Z",
     "start_time": "2025-06-12T20:35:17.283036Z"
    }
   },
   "cell_type": "code",
   "source": [
    "\"\"\"\n",
    "1) Preprocessing\n",
    "\"\"\"\n",
    "# load models and dataset\n",
    "df = pd.read_csv(\"hf://datasets/gxb912/large-twitter-tweets-sentiment/train.csv\", nrows=1000)\n",
    "nlp = spacy.load(\"en_core_web_sm\")\n",
    "\n",
    "# prepare dataset\n",
    "df = prd.prepare_df(df, nlp)\n",
    "\n",
    "# create dataset out of cleaned columns\n",
    "dataset = dat.Text_Dataset(df, col_text=\"clean_text_str\", col_label=\"sentiment\", args={\"max_features\":5000})\n",
    "dataset.split_dataset()"
   ],
   "id": "1d7e7f4ea60b4906",
   "outputs": [],
   "execution_count": 38
  },
  {
   "metadata": {
    "ExecuteTime": {
     "end_time": "2025-06-12T20:50:53.302375Z",
     "start_time": "2025-06-12T20:50:48.312114Z"
    }
   },
   "cell_type": "code",
   "source": [
    "X_train_TF, X_test_TF, Y_train_TF, Y_test_TF = dataset.get_encodings(tfidf=True)\n",
    "\n",
    "mlp_tdidf_params = mlp.find_best_mlp(X_train=X_train_TF,\n",
    "                                      Y_train=Y_train_TF,\n",
    "                                      X_test=X_test_TF,\n",
    "                                      Y_test=Y_test_TF,\n",
    "                                      n_trials = 2)"
   ],
   "id": "37ba580f1912b23e",
   "outputs": [
    {
     "name": "stderr",
     "output_type": "stream",
     "text": [
      "[I 2025-06-12 22:50:48,325] A new study created in memory with name: mlp_optimization\n",
      "[I 2025-06-12 22:50:50,788] Trial 0 finished with values: [0.6695579290390015, 0.574999988079071] and parameters: {'epochs': 172, 'learning_rate': 0.07334100429736391, 'units': 2}.\n",
      "[I 2025-06-12 22:50:53,292] Trial 1 finished with values: [0.6677049994468689, 0.699999988079071] and parameters: {'epochs': 187, 'learning_rate': 0.3794757103044708, 'units': 2}.\n"
     ]
    },
    {
     "name": "stdout",
     "output_type": "stream",
     "text": [
      "{'loss': 0.6677049994468689, 'accuracy': 0.699999988079071, 'params_epochs': 187.0, 'params_learning_rate': 0.3794757103044708, 'params_units': 2.0, 'time': 2.4826305}\n"
     ]
    }
   ],
   "execution_count": 63
  },
  {
   "metadata": {
    "ExecuteTime": {
     "end_time": "2025-06-12T20:50:54.739115Z",
     "start_time": "2025-06-12T20:50:54.726115Z"
    }
   },
   "cell_type": "code",
   "source": "mlp_tdidf_params",
   "id": "7b8767222e4db9e9",
   "outputs": [
    {
     "data": {
      "text/plain": [
       "{'loss': 0.6677049994468689,\n",
       " 'accuracy': 0.699999988079071,\n",
       " 'params_epochs': 187.0,\n",
       " 'params_learning_rate': 0.3794757103044708,\n",
       " 'params_units': 2.0,\n",
       " 'time': 2.4826305}"
      ]
     },
     "execution_count": 64,
     "metadata": {},
     "output_type": "execute_result"
    }
   ],
   "execution_count": 64
  }
 ],
 "metadata": {
  "kernelspec": {
   "display_name": "Python 3",
   "language": "python",
   "name": "python3"
  },
  "language_info": {
   "codemirror_mode": {
    "name": "ipython",
    "version": 2
   },
   "file_extension": ".py",
   "mimetype": "text/x-python",
   "name": "python",
   "nbconvert_exporter": "python",
   "pygments_lexer": "ipython2",
   "version": "2.7.6"
  }
 },
 "nbformat": 4,
 "nbformat_minor": 5
}
